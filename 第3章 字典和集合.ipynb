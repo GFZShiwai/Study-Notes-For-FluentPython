{
 "cells": [
  {
   "cell_type": "markdown",
   "metadata": {},
   "source": [
    "# 第3章 字典和集合"
   ]
  },
  {
   "cell_type": "markdown",
   "metadata": {},
   "source": [
    "字典和集合的实现均依赖于散列表，想要进一步理解集合和字典，就得先理解散列表的原理。\n",
    "\n",
    "本章的内容大纲如下:\n",
    "\n",
    "- 常见的字典方法\n",
    "\n",
    "- 如何处理查找不到的键\n",
    "\n",
    "- 标准库中dict类型的变种\n",
    "\n",
    "- set和frozenset类型\n",
    "\n",
    "- 散列表的工作原理\n",
    "\n",
    "- 散列表带来的潜在影响（什么样的数据类型可作为键、不可预知的顺序，等等）"
   ]
  },
  {
   "cell_type": "markdown",
   "metadata": {},
   "source": [
    "## 3.1 泛映射类型"
   ]
  },
  {
   "cell_type": "markdown",
   "metadata": {},
   "source": [
    "collections.abc模块中有Mapping和MutableMapping这两个抽象基类，其作用在于为dict和其他类似的类型定义形式接口。\n",
    "\n",
    "非抽象映射类型一般不会直接继承这些抽象基类，而是直接对dict或collections.User.Dict进行扩展。"
   ]
  },
  {
   "cell_type": "code",
   "execution_count": null,
   "metadata": {},
   "outputs": [],
   "source": [
    "# 使用抽象基类和isinstance一起判定某个数据结构是否为广义的映射类型\n",
    "import collections.abc as abc\n",
    "mydict = {}\n",
    "isinstance(mydict, abc.Mapping)"
   ]
  },
  {
   "cell_type": "markdown",
   "metadata": {},
   "source": [
    "标准库里所有的映射类型都是利用dict来实现的，因此他们有个共同的限制，即只有可散列的数据类型才能用作这些映射里的键。\n",
    "\n",
    "*<b>什么是可散列的数据类型？</b>*\n",
    "\n",
    "<u>如果一个对象是可散列的，那么在这个对象的生命周期中，它的散列值是不变的，而且这个对象需要实现__hash__()方法。另外可散列的对象还要有__qe__()方法，这样才能跟其他键作比较。</u>\n",
    "\n",
    "如果两个可散列对象是相等的，那么他们的散列值一定是一样的。"
   ]
  },
  {
   "cell_type": "code",
   "execution_count": null,
   "metadata": {},
   "outputs": [],
   "source": [
    "tt = (1, 2, (30, 40))\n",
    "hash(tt)"
   ]
  },
  {
   "cell_type": "code",
   "execution_count": null,
   "metadata": {},
   "outputs": [],
   "source": [
    "tl = (1, 2, [30, 40])\n",
    "hash(tl)"
   ]
  },
  {
   "cell_type": "code",
   "execution_count": null,
   "metadata": {},
   "outputs": [],
   "source": [
    "tf = (1, 2, frozenset([30, 40]))\n",
    "hash(tf)"
   ]
  },
  {
   "cell_type": "code",
   "execution_count": null,
   "metadata": {},
   "outputs": [],
   "source": [
    "# 字典的构造方法\n",
    "a = dict(one=1, two=2, three=3)\n",
    "b = dict({'one':1, \"two\":2, \"three\":3})\n",
    "c = dict(zip(['one', 'two', 'three'], [1, 2, 3]))\n",
    "d = dict([('one', 1), ('two', 2), ('three', 3)])\n",
    "e = {'one':1, \"two\":2, \"three\":3}\n",
    "\n",
    "a == b == c == d == e"
   ]
  },
  {
   "cell_type": "markdown",
   "metadata": {},
   "source": [
    "## 3.2 字典推导"
   ]
  },
  {
   "cell_type": "markdown",
   "metadata": {},
   "source": [
    "字典推导（dictcomp）可以从任何以键值对作为元素的可迭代对象中构建出字典。"
   ]
  },
  {
   "cell_type": "code",
   "execution_count": null,
   "metadata": {},
   "outputs": [],
   "source": [
    "# 字典推导的应用\n",
    "DIAL_CODES = [ \n",
    "    (86, 'China'),\n",
    "    (91, 'India'),\n",
    "    (1, 'United States'),\n",
    "    (62, 'Indonesia'),\n",
    "    (55, 'Brazil'),\n",
    "    (92, 'Pakistan'),\n",
    "    (880, 'Bangladesh'), \n",
    "    (234, 'Nigeria'),\n",
    "    (7, 'Russia'),\n",
    "    (81, 'Japan'),\n",
    "]\n",
    "country_code = {country: code for code, country in DIAL_CODES}\n",
    "country_code\n"
   ]
  },
  {
   "cell_type": "code",
   "execution_count": null,
   "metadata": {},
   "outputs": [],
   "source": [
    "{code: country.upper() for country, code in country_code.items() if code < 56}"
   ]
  },
  {
   "cell_type": "markdown",
   "metadata": {},
   "source": [
    "## 3.3 常见的映射方法"
   ]
  },
  {
   "cell_type": "markdown",
   "metadata": {},
   "source": [
    "- 用 **setdefault** 处理找不到的键 \n",
    "\n",
    "以下程序从索引中获取单词出现的频率信息，并把它们写进对应的列表里"
   ]
  },
  {
   "cell_type": "code",
   "execution_count": null,
   "metadata": {},
   "outputs": [],
   "source": [
    "'''创建一个从单词到期出现情况的映射'''\n",
    "\n",
    "import sys\n",
    "import re\n",
    "\n",
    "WORD_RE = re.compile(r'\\w+')\n",
    "\n",
    "index = {}\n",
    "with open(sys.argv[1], encoding = 'utf-8') as fp:\n",
    "    for line_no, line in enumerate(fp, 1):\n",
    "        for match in WRRD_RE.finditer(line):\n",
    "            word = match.group()\n",
    "            column_no = match.start()+1\n",
    "            location = (line_no, column_no)\n",
    "            # 这其实是一种很不好的实现，这样写只是为了证明论点\n",
    "            occurrences = index.get(word, []) ➊\n",
    "            occurrences.append(location) ➋\n",
    "            index[word] = occurrences ➌\n",
    "# 以字母顺序打印出结果\n",
    "for word in sorted(index, key=str.upper): ➍\n",
    "    print(word, index[word])"
   ]
  },
  {
   "cell_type": "code",
   "execution_count": null,
   "metadata": {},
   "outputs": [],
   "source": [
    "❶ 提取 word 出现的情况，如果还没有它的记录，返回 []。\n",
    "❷ 把单词新出现的位置添加到列表的后面。\n",
    "❸ 把新的列表放回字典中，这又牵扯到一次查询操作。\n",
    "❹ sorted 函数的 key= 参数没有调用 str.uppper，而是把这个方法\n",
    "的引用传递给 sorted 函数，这样在排序的时候，单词会被规范成统一\n",
    "格式。\n",
    "这是将方法用作一等函数的一个示例，第 5 章会谈到这一点。"
   ]
  },
  {
   "source": [
    "# 此处插入 **正则表达式** 内容和 **enumerate** 函数。\n",
    "\n",
    "## 1. enumerate函数\n",
    "\n",
    "enumerate函数用于将一个可遍历的数据对象组合为一个索引序列，同时列出数据下标和数据，一般用在for循环中。\n",
    "\n",
    "### 语法\n",
    "\n",
    "`enumerate(sequence, [start=0])`\n",
    "\n",
    "### 参数\n",
    "\n",
    "sequence为可迭代序列，start为下标起始位置。\n",
    "\n",
    "## 2. 正则表达式\n",
    "\n",
    "- 正则表达式是一个特殊的字符序列，它能帮助你方便的检查一个字符串是否与某种模\n",
    "\n",
    "式匹配。\n",
    "- re模块使python语言拥有全部的正则表达式功能。\n",
    "\n",
    "- compile函数根据一个模式字符串和可选的标志参数生成一个正则表达式对象。该对\n",
    "\n",
    "象拥有一系列方法用于正则表达式匹配和替换。\n",
    "\n",
    "### (1) **re.match** 函数\n",
    "\n",
    "`re.match` 尝试从字符串的起始位置匹配一个模式，如果不是起始位置匹配成功的话，match就返回none.\n",
    "\n",
    "#### 函数语法\n",
    "`re.match(pattern, string, flags=0)`\n",
    "#### 函数参数说明\n",
    "| 参数 | 描述 |\n",
    "|:---|:---:|\n",
    "| pattern | 匹配的正则表示 |\n",
    "| string  | 要匹配的字符串 |\n",
    "| flags   | \t标志位，用于控制正则表达式的匹配方式，如：是否区分大小写，多行匹配等等。|\n",
    "\n",
    "匹配成功re.match返回一个匹配的对象，否则返回None。\n",
    "\n",
    "我们可以使用 `group(num)` 或 `groups()` 匹配对象函数来获取匹配表达式。\n",
    "\n",
    "| 匹配对象方法 | 描述 |\n",
    "|:---|:---|\n",
    "|group(num=0)|匹配的整个表达式的字符串，group() 可以一次输入多个组号，在这种情况下它将返回一个包含那些组所对应值的元组。|\n",
    "|groups|返回一个包含所有小组字符串的元组，从 1 到 所含的小组号。|\n",
    "\n"
   ],
   "cell_type": "markdown",
   "metadata": {}
  },
  {
   "cell_type": "code",
   "execution_count": 8,
   "metadata": {},
   "outputs": [
    {
     "output_type": "stream",
     "name": "stdout",
     "text": [
      "matchObj.group() :  Cats are smarter than dogs\nmatchObj.group(1) :  Cats\nmatchObj.group(2) :  smarter\n('Cats', 'smarter')\n"
     ]
    }
   ],
   "source": [
    "#!/usr/bin/python\n",
    "import re\n",
    " \n",
    "line = \"Cats are smarter than dogs\"\n",
    " \n",
    "matchObj = re.match( r'(.*) are (.*?) .*', line, re.M|re.I)\n",
    " \n",
    "if matchObj:\n",
    "    print (\"matchObj.group() : \", matchObj.group())\n",
    "    print (\"matchObj.group(1) : \", matchObj.group(1))\n",
    "    print (\"matchObj.group(2) : \", matchObj.group(2))\n",
    "    print(matchObj.groups())\n",
    "else:\n",
    "    print (\"No match!!\")"
   ]
  },
  {
   "cell_type": "code",
   "execution_count": 6,
   "metadata": {},
   "outputs": [
    {
     "output_type": "execute_result",
     "data": {
      "text/plain": [
       "'Cats are smarter than dogs'"
      ]
     },
     "metadata": {},
     "execution_count": 6
    }
   ],
   "source": [
    "matchObj.group()"
   ]
  },
  {
   "source": [
    "### (2) ** re.search **函数\n",
    "re.search扫描整个字符串并返回第一个成功匹配。\n",
    "\n",
    "#### 函数语法\n",
    "`re.search(pattern, string, flags=0)`\n",
    "#### 参数说明\n",
    "同上\n",
    "\n",
    "### re.match与re.search的区别\n",
    "re.match只匹配字符串的开始，如果字符串开始不符合正则表达式，则匹配失败，函数\n",
    "\n",
    "返回None；而re.search匹配整个字符串，直到找到一个匹配。"
   ],
   "cell_type": "markdown",
   "metadata": {}
  },
  {
   "cell_type": "code",
   "execution_count": 11,
   "metadata": {},
   "outputs": [
    {
     "output_type": "stream",
     "name": "stdout",
     "text": [
      "No match!!\nsearch --> searchObj.group() :  dogs\n"
     ]
    }
   ],
   "source": [
    "#!/usr/bin/python\n",
    "import re\n",
    " \n",
    "line = \"Cats are smarter than dogs\";\n",
    " \n",
    "matchObj = re.match( r'dogs', line, re.M|re.I)\n",
    "if matchObj:\n",
    "    print (\"match --> matchObj.group() : \", matchObj.group())\n",
    "else:\n",
    "    print (\"No match!!\")\n",
    " \n",
    "matchObj = re.search( r'dogs', line, re.M|re.I)\n",
    "if matchObj:\n",
    "    print (\"search --> searchObj.group() : \", matchObj.group())\n",
    "else:\n",
    "    print (\"No match!!\")"
   ]
  },
  {
   "source": [
    "## 3. 检索和替换\n",
    "python的re模块提供了re.sub用于替换字符串中的匹配项。\n",
    "### 语法\n",
    "`re.sub(pattern, repl, string, count=0, flags=0)`\n",
    "### 参数\n",
    "- pattern: 正则中的模式字符串\n",
    "- repl: 替换的字符串，也可为一个函数\n",
    "- string: 要被查找替换的原始字符串\n",
    "- count: 模式匹配后替换的最大次数，默认0表示替换所有的匹配"
   ],
   "cell_type": "markdown",
   "metadata": {}
  },
  {
   "cell_type": "code",
   "execution_count": 13,
   "metadata": {},
   "outputs": [
    {
     "output_type": "stream",
     "name": "stdout",
     "text": [
      "电话号码是:  2004-959-559 \n电话号码是 :  2004959559\n"
     ]
    }
   ],
   "source": [
    "#!/usr/bin/python\n",
    "# -*- coding: UTF-8 -*-\n",
    " \n",
    "import re\n",
    " \n",
    "phone = \"2004-959-559 # 这是一个国外电话号码\"\n",
    " \n",
    "# 删除字符串中的 Python注释 \n",
    "num = re.sub(r'#.*$', \"\", phone)\n",
    "print (\"电话号码是: \", num)\n",
    " \n",
    "# 删除非数字(-)的字符串 \n",
    "num = re.sub(r'\\D', \"\", phone)\n",
    "print (\"电话号码是 : \", num)"
   ]
  },
  {
   "source": [
    "### repl参数是一个函数\n",
    "以下实例中将字符串中的匹配的数字乘以2："
   ],
   "cell_type": "markdown",
   "metadata": {}
  },
  {
   "source": [
    "#!/usr/bin/python\n",
    "# -*- coding: UTF-8 -*-\n",
    " \n",
    "import re\n",
    " \n",
    "# 将匹配的数字乘以 2\n",
    "def double(matched):\n",
    "    value = int(matched.group('value'))\n",
    "    return str(value * 2)\n",
    " \n",
    "s = 'A23G4HFD567'\n",
    "print(re.sub('(?P<value>\\d+)', double, s))"
   ],
   "cell_type": "code",
   "metadata": {},
   "execution_count": 14,
   "outputs": [
    {
     "output_type": "stream",
     "name": "stdout",
     "text": [
      "A46G8HFD1134\n"
     ]
    }
   ]
  },
  {
   "source": [
    "## （3）** re.compile **函数"
   ],
   "cell_type": "markdown",
   "metadata": {}
  },
  {
   "source": [],
   "cell_type": "markdown",
   "metadata": {}
  }
 ],
 "metadata": {
  "kernelspec": {
   "display_name": "Python 3",
   "language": "python",
   "name": "python3"
  },
  "language_info": {
   "codemirror_mode": {
    "name": "ipython",
    "version": 3
   },
   "file_extension": ".py",
   "mimetype": "text/x-python",
   "name": "python",
   "nbconvert_exporter": "python",
   "pygments_lexer": "ipython3",
   "version": "3.7.3-final"
  }
 },
 "nbformat": 4,
 "nbformat_minor": 2
}