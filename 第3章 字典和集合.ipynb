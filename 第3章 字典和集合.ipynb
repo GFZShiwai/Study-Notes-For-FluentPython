{
 "metadata": {
  "language_info": {
   "codemirror_mode": {
    "name": "ipython",
    "version": 3
   },
   "file_extension": ".py",
   "mimetype": "text/x-python",
   "name": "python",
   "nbconvert_exporter": "python",
   "pygments_lexer": "ipython3",
   "version": 3
  },
  "orig_nbformat": 2
 },
 "nbformat": 4,
 "nbformat_minor": 2,
 "cells": [
  {
   "source": [
    "# 第3章 字典和集合"
   ],
   "cell_type": "markdown",
   "metadata": {}
  },
  {
   "source": [
    "字典和集合的实现均依赖于散列表，想要进一步理解集合和字典，就得先理解散列表的原理。\n",
    "\n",
    "本章的内容大纲如下:\n",
    "\n",
    "- 常见的字典方法\n",
    "\n",
    "- 如何处理查找不到的键\n",
    "\n",
    "- 标准库中dict类型的变种\n",
    "\n",
    "- set和frozenset类型\n",
    "\n",
    "- 散列表的工作原理\n",
    "\n",
    "- 散列表带来的潜在影响（什么样的数据类型可作为键、不可预知的顺序，等等）"
   ],
   "cell_type": "markdown",
   "metadata": {}
  },
  {
   "source": [
    "## 3.1 泛映射类型"
   ],
   "cell_type": "markdown",
   "metadata": {}
  }
 ]
}