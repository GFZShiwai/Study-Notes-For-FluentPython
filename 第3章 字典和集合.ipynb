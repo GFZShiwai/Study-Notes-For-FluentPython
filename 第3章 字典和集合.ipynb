{
 "cells": [
  {
   "cell_type": "markdown",
   "metadata": {},
   "source": [
    "# 第3章 字典和集合"
   ]
  },
  {
   "cell_type": "markdown",
   "metadata": {},
   "source": [
    "字典和集合的实现均依赖于散列表，想要进一步理解集合和字典，就得先理解散列表的原理。\n",
    "\n",
    "本章的内容大纲如下:\n",
    "\n",
    "- 常见的字典方法\n",
    "\n",
    "- 如何处理查找不到的键\n",
    "\n",
    "- 标准库中dict类型的变种\n",
    "\n",
    "- set和frozenset类型\n",
    "\n",
    "- 散列表的工作原理\n",
    "\n",
    "- 散列表带来的潜在影响（什么样的数据类型可作为键、不可预知的顺序，等等）"
   ]
  },
  {
   "cell_type": "markdown",
   "metadata": {},
   "source": [
    "## 3.1 泛映射类型"
   ]
  },
  {
   "cell_type": "markdown",
   "metadata": {},
   "source": [
    "collections.abc模块中有Mapping和MutableMapping这两个抽象基类，其作用在于为dict和其他类似的类型定义形式接口。\n",
    "\n",
    "非抽象映射类型一般不会直接继承这些抽象基类，而是直接对dict或collections.User.Dict进行扩展。"
   ]
  },
  {
   "cell_type": "code",
   "execution_count": null,
   "metadata": {},
   "outputs": [],
   "source": [
    "# 使用抽象基类和isinstance一起判定某个数据结构是否为广义的映射类型\n",
    "import collections.abc as abc\n",
    "mydict = {}\n",
    "isinstance(mydict, abc.Mapping)"
   ]
  },
  {
   "cell_type": "markdown",
   "metadata": {},
   "source": [
    "标准库里所有的映射类型都是利用dict来实现的，因此他们有个共同的限制，即只有可散列的数据类型才能用作这些映射里的键。\n",
    "\n",
    "*<b>什么是可散列的数据类型？</b>*\n",
    "\n",
    "<u>如果一个对象是可散列的，那么在这个对象的生命周期中，它的散列值是不变的，而且这个对象需要实现__hash__()方法。另外可散列的对象还要有__qe__()方法，这样才能跟其他键作比较。</u>\n",
    "\n",
    "如果两个可散列对象是相等的，那么他们的散列值一定是一样的。"
   ]
  },
  {
   "cell_type": "code",
   "execution_count": null,
   "metadata": {},
   "outputs": [],
   "source": [
    "tt = (1, 2, (30, 40))\n",
    "hash(tt)"
   ]
  },
  {
   "cell_type": "code",
   "execution_count": null,
   "metadata": {},
   "outputs": [],
   "source": [
    "tl = (1, 2, [30, 40])\n",
    "hash(tl)"
   ]
  },
  {
   "cell_type": "code",
   "execution_count": null,
   "metadata": {},
   "outputs": [],
   "source": [
    "tf = (1, 2, frozenset([30, 40]))\n",
    "hash(tf)"
   ]
  },
  {
   "cell_type": "code",
   "execution_count": null,
   "metadata": {},
   "outputs": [],
   "source": [
    "# 字典的构造方法\n",
    "a = dict(one=1, two=2, three=3)\n",
    "b = dict({'one':1, \"two\":2, \"three\":3})\n",
    "c = dict(zip(['one', 'two', 'three'], [1, 2, 3]))\n",
    "d = dict([('one', 1), ('two', 2), ('three', 3)])\n",
    "e = {'one':1, \"two\":2, \"three\":3}\n",
    "\n",
    "a == b == c == d == e"
   ]
  },
  {
   "cell_type": "markdown",
   "metadata": {},
   "source": [
    "## 3.2 字典推导"
   ]
  },
  {
   "cell_type": "markdown",
   "metadata": {},
   "source": [
    "字典推导（dictcomp）可以从任何以键值对作为元素的可迭代对象中构建出字典。"
   ]
  },
  {
   "cell_type": "code",
   "execution_count": null,
   "metadata": {},
   "outputs": [],
   "source": [
    "# 字典推导的应用\n",
    "DIAL_CODES = [ \n",
    "    (86, 'China'),\n",
    "    (91, 'India'),\n",
    "    (1, 'United States'),\n",
    "    (62, 'Indonesia'),\n",
    "    (55, 'Brazil'),\n",
    "    (92, 'Pakistan'),\n",
    "    (880, 'Bangladesh'), \n",
    "    (234, 'Nigeria'),\n",
    "    (7, 'Russia'),\n",
    "    (81, 'Japan'),\n",
    "]\n",
    "country_code = {country: code for code, country in DIAL_CODES}\n",
    "country_code\n"
   ]
  },
  {
   "cell_type": "code",
   "execution_count": null,
   "metadata": {},
   "outputs": [],
   "source": [
    "{code: country.upper() for country, code in country_code.items() if code < 56}"
   ]
  },
  {
   "cell_type": "markdown",
   "metadata": {},
   "source": [
    "## 3.3 常见的映射方法"
   ]
  },
  {
   "cell_type": "markdown",
   "metadata": {},
   "source": [
    "- 用 **setdefault** 处理找不到的键 \n",
    "\n",
    "以下程序从索引中获取单词出现的频率信息，并把它们写进对应的列表里"
   ]
  },
  {
   "cell_type": "code",
   "execution_count": null,
   "metadata": {},
   "outputs": [],
   "source": [
    "'''创建一个从单词到期出现情况的映射'''\n",
    "\n",
    "import sys\n",
    "import re\n",
    "\n",
    "WORD_RE = re.compile(r'\\w+')\n",
    "\n",
    "index = {}\n",
    "with open(sys.argv[1], encoding = 'utf-8') as fp:\n",
    "    for line_no, line in enumerate(fp, 1):\n",
    "        for match in WRRD_RE.finditer(line):\n",
    "            word = match.group()\n",
    "            column_no = match.start()+1\n",
    "            location = (line_no, column_no)\n",
    "            # 这其实是一种很不好的实现，这样写只是为了证明论点\n",
    "            occurrences = index.get(word, []) ➊\n",
    "            occurrences.append(location) ➋\n",
    "            index[word] = occurrences ➌\n",
    "# 以字母顺序打印出结果\n",
    "for word in sorted(index, key=str.upper): ➍\n",
    "    print(word, index[word])"
   ]
  },
  {
   "cell_type": "code",
   "execution_count": null,
   "metadata": {},
   "outputs": [],
   "source": [
    "❶ 提取 word 出现的情况，如果还没有它的记录，返回 []。\n",
    "❷ 把单词新出现的位置添加到列表的后面。\n",
    "❸ 把新的列表放回字典中，这又牵扯到一次查询操作。\n",
    "❹ sorted 函数的 key= 参数没有调用 str.uppper，而是把这个方法\n",
    "的引用传递给 sorted 函数，这样在排序的时候，单词会被规范成统一\n",
    "格式。\n",
    "这是将方法用作一等函数的一个示例，第 5 章会谈到这一点。"
   ]
  },
  {
   "source": [
    "# 此处插入 **正则表达式** 内容和 **enumerate** 函数。\n",
    "\n",
    "## 1. enumerate函数\n",
    "\n",
    "enumerate函数用于将一个可遍历的数据对象组合为一个索引序列，同时列出数据下标和数据，一般用在for循环中。\n",
    "\n",
    "### 语法\n",
    "\n",
    "`enumerate(sequence, [start=0])`\n",
    "\n",
    "### 参数\n",
    "\n",
    "sequence为可迭代序列，start为下标起始位置。\n",
    "\n",
    "## 2. 正则表达式\n",
    "\n",
    "- 正则表达式是一个特殊的字符序列，它能帮助你方便的检查一个字符串是否与某种模\n",
    "\n",
    "式匹配。\n",
    "- re模块使python语言拥有全部的正则表达式功能。\n",
    "\n",
    "- compile函数根据一个模式字符串和可选的标志参数生成一个正则表达式对象。该对\n",
    "\n",
    "象拥有一系列方法用于正则表达式匹配和替换。\n",
    "\n",
    "### (1) **re.match** 函数\n",
    "\n",
    "`re.match` 尝试从字符串的起始位置匹配一个模式，如果不是起始位置匹配成功的话，match就返回none.\n",
    "\n",
    "#### 函数语法\n",
    "`re.match(pattern, string, flags=0)`\n",
    "#### 函数参数说明\n",
    "| 参数 | 描述 |\n",
    "|:---|:---:|\n",
    "| pattern | 匹配的正则表示 |\n",
    "| string  | 要匹配的字符串 |\n",
    "| flags   | \t标志位，用于控制正则表达式的匹配方式，如：是否区分大小写，多行匹配等等。|\n",
    "\n",
    "匹配成功re.match返回一个匹配的对象，否则返回None。\n",
    "\n",
    "我们可以使用 `group(num)` 或 `groups()` 匹配对象函数来获取匹配表达式。\n",
    "\n",
    "| 匹配对象方法 | 描述 |\n",
    "|:---|:---|\n",
    "|group(num=0)|匹配的整个表达式的字符串，group() 可以一次输入多个组号，在这种情况下它将返回一个包含那些组所对应值的元组。|\n",
    "|groups|返回一个包含所有小组字符串的元组，从 1 到 所含的小组号。|\n",
    "\n"
   ],
   "cell_type": "markdown",
   "metadata": {}
  },
  {
   "cell_type": "code",
   "execution_count": null,
   "metadata": {},
   "outputs": [],
   "source": [
    "#!/usr/bin/python\n",
    "import re\n",
    " \n",
    "line = \"Cats are smarter than dogs\"\n",
    " \n",
    "matchObj = re.match( r'(.*) are (.*?) .*', line, re.M|re.I)\n",
    " \n",
    "if matchObj:\n",
    "    print (\"matchObj.group() : \", matchObj.group())\n",
    "    print (\"matchObj.group(1) : \", matchObj.group(1))\n",
    "    print (\"matchObj.group(2) : \", matchObj.group(2))\n",
    "    print(matchObj.groups())\n",
    "else:\n",
    "    print (\"No match!!\")"
   ]
  },
  {
   "cell_type": "code",
   "execution_count": null,
   "metadata": {},
   "outputs": [],
   "source": [
    "matchObj.group()"
   ]
  },
  {
   "source": [
    "### (2) ** re.search **函数\n",
    "re.search扫描整个字符串并返回第一个成功匹配。\n",
    "\n",
    "#### 函数语法\n",
    "`re.search(pattern, string, flags=0)`\n",
    "#### 参数说明\n",
    "同上\n",
    "\n",
    "### re.match与re.search的区别\n",
    "re.match只匹配字符串的开始，如果字符串开始不符合正则表达式，则匹配失败，函数\n",
    "\n",
    "返回None；而re.search匹配整个字符串，直到找到一个匹配。"
   ],
   "cell_type": "markdown",
   "metadata": {}
  },
  {
   "cell_type": "code",
   "execution_count": null,
   "metadata": {},
   "outputs": [],
   "source": [
    "#!/usr/bin/python\n",
    "import re\n",
    " \n",
    "line = \"Cats are smarter than dogs\";\n",
    " \n",
    "matchObj = re.match( r'dogs', line, re.M|re.I)\n",
    "if matchObj:\n",
    "    print (\"match --> matchObj.group() : \", matchObj.group())\n",
    "else:\n",
    "    print (\"No match!!\")\n",
    " \n",
    "matchObj = re.search( r'dogs', line, re.M|re.I)\n",
    "if matchObj:\n",
    "    print (\"search --> searchObj.group() : \", matchObj.group())\n",
    "else:\n",
    "    print (\"No match!!\")"
   ]
  },
  {
   "source": [
    "### （3） 检索和替换\n",
    "python的re模块提供了re.sub用于替换字符串中的匹配项。\n",
    "### 语法\n",
    "`re.sub(pattern, repl, string, count=0, flags=0)`\n",
    "### 参数\n",
    "- pattern: 正则中的模式字符串\n",
    "- repl: 替换的字符串，也可为一个函数\n",
    "- string: 要被查找替换的原始字符串\n",
    "- count: 模式匹配后替换的最大次数，默认0表示替换所有的匹配"
   ],
   "cell_type": "markdown",
   "metadata": {}
  },
  {
   "cell_type": "code",
   "execution_count": null,
   "metadata": {},
   "outputs": [],
   "source": [
    "#!/usr/bin/python\n",
    "# -*- coding: UTF-8 -*-\n",
    " \n",
    "import re\n",
    " \n",
    "phone = \"2004-959-559 # 这是一个国外电话号码\"\n",
    " \n",
    "# 删除字符串中的 Python注释 \n",
    "num = re.sub(r'#.*$', \"\", phone)\n",
    "print (\"电话号码是: \", num)\n",
    " \n",
    "# 删除非数字(-)的字符串 \n",
    "num = re.sub(r'\\D', \"\", phone)\n",
    "print (\"电话号码是 : \", num)"
   ]
  },
  {
   "source": [
    "#### repl参数是一个函数\n",
    "以下实例中将字符串中的匹配的数字乘以2："
   ],
   "cell_type": "markdown",
   "metadata": {}
  },
  {
   "source": [
    "#!/usr/bin/python\n",
    "# -*- coding: UTF-8 -*-\n",
    " \n",
    "import re\n",
    " \n",
    "# 将匹配的数字乘以 2\n",
    "def double(matched):\n",
    "    value = int(matched.group('value'))\n",
    "    return str(value * 2)\n",
    " \n",
    "s = 'A23G4HFD567'\n",
    "print(re.sub('(?P<value>\\d+)', double, s))"
   ],
   "cell_type": "code",
   "metadata": {},
   "execution_count": 46,
   "outputs": [
    {
     "output_type": "stream",
     "name": "stdout",
     "text": [
      "A46G8HFD1134\n"
     ]
    }
   ]
  },
  {
   "source": [
    "### （4）** re.compile **函数\n",
    "\n",
    "compile函数用于编译正则表达式，生成一个正则表达式（Pattern）对象，供match和 \n",
    "\n",
    "search这两个函数使用。\n",
    "\n",
    "### 语法格式\n",
    "\n",
    "`re.compile(pattern[, flags])`\n",
    "\n",
    "### 参数\n",
    "\n",
    "- pattern: 一个字符串形式的正则表达式\n",
    "\n",
    "- flags: 可选，表示匹配模式，比如忽略大小写，多行模式等，具体参数为：\n",
    "\n",
    "1. re.I 忽略大小写\n",
    "\n",
    "2. re.L 表示特殊字符集 \\w, \\W, \\b, \\B, \\s, \\S 依赖于当前环境\n",
    "\n",
    "3. re.M 多行模式\n",
    "\n",
    "4. re.S 即为 `.`并且包括换行符在内的任意字符（`.` 不包括换行符）\n",
    "\n",
    "5. re.U 表示特殊字符集 \\w, \\W, \\b, \\B, \\d, \\D, \\s, \\S 依赖于 Unicode 字符属性数据库\n",
    "\n",
    "6. re.X 为了增加可读性，忽略空格和 # 后面的注释"
   ],
   "cell_type": "markdown",
   "metadata": {}
  },
  {
   "cell_type": "code",
   "execution_count": null,
   "metadata": {},
   "outputs": [],
   "source": [
    ">>>import re\n",
    ">>> pattern = re.compile(r'\\d+')                    # 用于匹配至少一个数字\n",
    ">>> m = pattern.match('one12twothree34four')        # 查找头部，没有匹配\n",
    ">>> print m\n",
    "None\n",
    ">>> m = pattern.match('one12twothree34four', 2, 10) # 从'e'的位置开始匹配，没有匹配\n",
    ">>> print m\n",
    "None\n",
    ">>> m = pattern.match('one12twothree34four', 3, 10) # 从'1'的位置开始匹配，正好匹配\n",
    ">>> print m                                         # 返回一个 Match 对象\n",
    "<_sre.SRE_Match object at 0x10a42aac0>\n",
    ">>> m.group(0)   # 可省略 0\n",
    "'12'\n",
    ">>> m.start(0)   # 可省略 0\n",
    "3\n",
    ">>> m.end(0)     # 可省略 0\n",
    "5\n",
    ">>> m.span(0)    # 可省略 0\n",
    "(3, 5)"
   ]
  },
  {
   "source": [
    "在上面，当匹配成功时返回一个 Match 对象，其中：\n",
    "\n",
    "- group([group1, …]) 方法用于获得一个或多个分组匹配的字符串，当要获得整个匹配的子串时，可直接使用 group() 或 group(0)；\n",
    "\n",
    "- start([group]) 方法用于获取分组匹配的子串在整个字符串中的起始位置（子串第一个字符的索引），参数默认值为 0；\n",
    "\n",
    "- end([group]) 方法用于获取分组匹配的子串在整个字符串中的结束位置（子串最后一个字符的索引+1），参数默认值为 0；\n",
    "\n",
    "- span([group]) 方法返回 (start(group), end(group))。"
   ],
   "cell_type": "markdown",
   "metadata": {}
  },
  {
   "cell_type": "code",
   "execution_count": null,
   "metadata": {},
   "outputs": [],
   "source": [
    ">>>import re\n",
    ">>> pattern = re.compile(r'([a-z]+) ([a-z]+)', re.I)   # re.I 表示忽略大小写\n",
    ">>> m = pattern.match('Hello World Wide Web')\n",
    ">>> print m                               # 匹配成功，返回一个 Match 对象\n",
    "<_sre.SRE_Match object at 0x10bea83e8>\n",
    ">>> m.group(0)                            # 返回匹配成功的整个子串\n",
    "'Hello World'\n",
    ">>> m.span(0)                             # 返回匹配成功的整个子串的索引\n",
    "(0, 11)\n",
    ">>> m.group(1)                            # 返回第一个分组匹配成功的子串\n",
    "'Hello'\n",
    ">>> m.span(1)                             # 返回第一个分组匹配成功的子串的索引\n",
    "(0, 5)\n",
    ">>> m.group(2)                            # 返回第二个分组匹配成功的子串\n",
    "'World'\n",
    ">>> m.span(2)                             # 返回第二个分组匹配成功的子串\n",
    "(6, 11)\n",
    ">>> m.groups()                            # 等价于 (m.group(1), m.group(2), ...)\n",
    "('Hello', 'World')\n",
    ">>> m.group(3)                            # 不存在第三个分组\n",
    "Traceback (most recent call last):\n",
    "  File \"<stdin>\", line 1, in <module>\n",
    "IndexError: no such groupb  "
   ]
  },
  {
   "source": [
    "### （5） ** findall **\n",
    "\n",
    "在字符串中找到正则表达式所匹配的所有子串，并返回一个列表，如果没有找到匹配的，则返回空列表。\n",
    "\n",
    "** 注意 **\n",
    "\n",
    "match和search是匹配一次，findall匹配所有。\n",
    "\n",
    "### 语法格式\n",
    "\n",
    "`findall(string[, pos[, endpos]])`\n",
    "\n",
    "### 参数\n",
    "\n",
    "- string : 待匹配的字符串。\n",
    "\n",
    "- pos : 可选参数，指定字符串的起始位置，默认为 0。\n",
    "\n",
    "- endpos : 可选参数，指定字符串的结束位置，默认为字符串的长度。\n"
   ],
   "cell_type": "markdown",
   "metadata": {}
  },
  {
   "cell_type": "code",
   "execution_count": 39,
   "metadata": {},
   "outputs": [
    {
     "output_type": "stream",
     "name": "stdout",
     "text": [
      "['123', '456']\n['88', '12']\n"
     ]
    }
   ],
   "source": [
    "# -*- coding:UTF8 -*-\n",
    " \n",
    "import re\n",
    " \n",
    "pattern = re.compile(r'\\d+')   # 查找数字\n",
    "result1 = pattern.findall('runoob 123 google 456')\n",
    "result2 = pattern.findall('run88oob123google456', 0, 10)\n",
    " \n",
    "print(result1)\n",
    "print(result2)"
   ]
  },
  {
   "source": [
    "### （6）** re.finditer**\n",
    "\n",
    "和 findall 类似，在字符串中找到正则表达式所匹配的所有子串，并把它们作为一个迭代器返回\n",
    "\n",
    "`re.finditer(pattern, string, flags=0)`"
   ],
   "cell_type": "markdown",
   "metadata": {}
  },
  {
   "cell_type": "code",
   "execution_count": 43,
   "metadata": {},
   "outputs": [
    {
     "output_type": "stream",
     "name": "stdout",
     "text": [
      "12\n32\n43\n3\n"
     ]
    }
   ],
   "source": [
    "# -*- coding: UTF-8 -*-\n",
    " \n",
    "import re\n",
    " \n",
    "it = re.finditer(r\"\\d+\",\"12a32bc43jf3\") \n",
    "for match in it: \n",
    "    print (match.group() )"
   ]
  },
  {
   "source": [
    "### (7) **re.spilt**\n",
    "\n",
    "split方法按照能够匹配的子串将字符串分割后返回列表，它的使用形式如下：\n",
    "\n",
    "`re.spilt(pattern, string[,maxsplit=0, flags=0])`\n",
    "\n",
    "maxsplit 分割次数，maxsplit=1分隔1次，默认为0，不限制次数"
   ],
   "cell_type": "markdown",
   "metadata": {}
  },
  {
   "cell_type": "code",
   "execution_count": null,
   "metadata": {},
   "outputs": [],
   "source": [
    ">>>import re\n",
    ">>> re.split('\\W+', 'runoob, runoob, runoob.')\n",
    "['runoob', 'runoob', 'runoob', '']\n",
    ">>> re.split('(\\W+)', ' runoob, runoob, runoob.') \n",
    "['', ' ', 'runoob', ', ', 'runoob', ', ', 'runoob', '.', '']\n",
    ">>> re.split('\\W+', ' runoob, runoob, runoob.', 1) \n",
    "['', 'runoob, runoob, runoob.']\n",
    " \n",
    ">>> re.split('a*', 'hello world')   # 对于一个找不到匹配的字符串而言，split 不会对其作出分割\n",
    "['hello world']"
   ]
  },
  {
   "source": [
    "### 正则表达式对象\n",
    "\n",
    "- `re.RegexObject`\n",
    "\n",
    "re.compile()返回RegexObject对象\n",
    "\n",
    "- `re.MatchObject`\n",
    "\n",
    "group() 返回被 RE 匹配的字符串。\n",
    "\n",
    "- start() 返回匹配开始的位置\n",
    "\n",
    "- end() 返回匹配结束的位置\n",
    "\n",
    "- span() 返回一个元组包含匹配 (开始,结束) 的位置"
   ],
   "cell_type": "markdown",
   "metadata": {}
  },
  {
   "source": [
    "正则表达式模式等相关细节使用时另请详查。\n",
    "\n",
    "# 下面返回FluentPython相关章节。"
   ],
   "cell_type": "markdown",
   "metadata": {}
  },
  {
   "source": [
    "使用dict.setdefault使用一行代码解决获取和更新单词出现情况"
   ],
   "cell_type": "markdown",
   "metadata": {}
  },
  {
   "cell_type": "code",
   "execution_count": 45,
   "metadata": {},
   "outputs": [
    {
     "output_type": "stream",
     "name": "stdout",
     "text": [
      "are [(1, 5)]\nBig [(3, 1)]\nDipper [(3, 5)]\nin [(4, 1)]\nlife [(4, 13)]\nlike [(2, 1)]\nmy [(4, 4)]\nshining [(3, 13)]\nthe [(2, 6)]\nwhole [(4, 7)]\nYou [(1, 1)]\n"
     ]
    }
   ],
   "source": [
    "import sys\n",
    "import re\n",
    "\n",
    "WORD_RE = re.compile(r'\\w+')\n",
    "\n",
    "index = {}\n",
    "with open(\"./zen.txt\", encoding='utf-8') as fp:\n",
    "    for line_no, line in enumerate(fp, 1):\n",
    "        for match in WORD_RE.finditer(line):\n",
    "            word = match.group()\n",
    "            column_no = match.start()+1\n",
    "            location = (line_no, column_no)\n",
    "            index.setdefault(word,[]).append(location)\n",
    "# 以字母顺序打印出结果\n",
    "for word in sorted(index, key=str.upper):\n",
    "    print(word, index[word])\n"
   ]
  },
  {
   "source": [
    "二者的效果是一样的，只不过后者至少要进行两次键查询——如果键不存在的话，就是三次，用 setdefault 只需要一次就可以完成整个操作。\n"
   ],
   "cell_type": "markdown",
   "metadata": {}
  },
  {
   "source": [
    "那么，在单纯地查找取值（而不是通过查找来插入新值）的时候，该怎么处理找不到的键呢?\n",
    "\n",
    "## 3.4 映射的弹性键查询\n",
    "\n",
    "### 3.4.1 defaultdict: 处理找不到的键的一个选择\n",
    "\n",
    "在实例化一个 defaultdict 的时候，需要给构造方法提供一个可调用对象，这个可调用对象会在 __getitem__ 碰到找不到的键的时候被调用，让 __getitem__ 返回某种默认值。\n",
    "\n"
   ],
   "cell_type": "markdown",
   "metadata": {}
  },
  {
   "source": [
    "'''创建一个从单词到其出现情况的映射'''\n",
    "import sys\n",
    "import re\n",
    "import collections\n",
    "\n",
    "WORD_RE = re.compile(r'\\w+')\n",
    "\n",
    "index = collections.defaultdict(list)\n",
    "with open(\"./zen.txt\", encoding=\"utf-8\") as fp:\n",
    "    for line_no, line in enumerate(fp, 1):\n",
    "        for match in WORD_RE.finditer(line):\n",
    "            word = match.group()\n",
    "            column_no = match.start() + 1\n",
    "            location = (line_no,column_no)\n",
    "            index[word].append(location)\n",
    "# 以字母顺序打印出结果\n",
    "for word in sorted(index, key=str.upper):\n",
    "    print(word, index[word])\n",
    "\n"
   ],
   "cell_type": "code",
   "metadata": {},
   "execution_count": 2,
   "outputs": [
    {
     "output_type": "stream",
     "name": "stdout",
     "text": [
      "are [(1, 5)]\nBig [(3, 1)]\nDipper [(3, 5)]\nin [(4, 1)]\nlife [(4, 13)]\nlike [(2, 1)]\nmy [(4, 4)]\nshining [(3, 13)]\nthe [(2, 6)]\nwhole [(4, 7)]\nYou [(1, 1)]\n"
     ]
    }
   ]
  },
  {
   "source": [
    "- 把 list 构造方法作为 default_factory 来创建一个\n",
    "defaultdict。\n",
    "- 如果 index 并没有 word 的记录，那么 default_factory 会被调\n",
    "用，为查询不到的键创造一个值。这个值在这里是一个空的列表，然后\n",
    "这个空列表被赋值给 index\\[word\\]，继而被当作返回值返回，因此\n",
    ".append(location) 操作总能成功。\n",
    "如果在创建 defaultdict 的时候没有指定 default_factory，查询不\n",
    "存在的键会触发 KeyError。\n",
    "\n",
    "> defaultdict 里的 default_factory 只会在\n",
    "__getitem__ 里被调用，在其他的方法里完全不会发挥作用。比\n",
    "如，dd 是个 defaultdict，k 是个找不到的键， dd[k] 这个表达\n",
    "式会调用 default_factory 创造某个默认值，而 dd.get(k) 则会\n",
    "返回 None。\n"
   ],
   "cell_type": "markdown",
   "metadata": {}
  },
  {
   "source": [
    "所有这一切背后的功臣其实是特殊方法 __missing__。它会在defaultdict 遇到找不到的键的时候调用 default_factory，而实际上这个特性是所有映射类型都可以选择去支持的。\n",
    "\n",
    "### 3.4.2 特殊方法\\__missing\\__\n",
    "\n",
    "所有的映射类型在处理找不到的键的时候，都会牵扯到 __missing__方法。这也是这个方法称作“missing”的原因。虽然基类 dict 并没有定义这个方法，但是 dict 是知道有这么个东西存在的。也就是说，如果有一个类继承了 dict，然后这个继承类提供了 __missing__ 方法，那么在 __getitem__ 碰到找不到的键的时候，Python 就会自动调用它，而不是抛出一个 KeyError 异常。\n",
    "\n",
    "***  __missing__ 方法只会被 __getitem__ 调用（比如在表达式 d\\[k\\] 中）。提供 __missing__ 方法对 get 或者__contains__（in 运算符会用到这个方法）这些方法的使用没有影响。这也是我在上一节最后的警告中提到，defaultdict 中default_factory 只对 __getitem__ 有作用的原因。 ***\n",
    "\n"
   ],
   "cell_type": "markdown",
   "metadata": {}
  },
  {
   "cell_type": "code",
   "execution_count": 3,
   "metadata": {},
   "outputs": [],
   "source": [
    "# 以下示例实现了StrKeyDict0类的实现及当有非字符串的键被查找的时候，该类是如何在该键不存在的情况下，把它转换为字符串的\n",
    "class StrKeyDict0(dict):\n",
    "\n",
    "    def __missing__(self, key):\n",
    "        if isinstance(key, str):\n",
    "            raise KeyError(key)\n",
    "        return self[str(key)]\n",
    "    def get(self, key, default=None):\n",
    "        try:\n",
    "            return self[key]\n",
    "        except KeyError:\n",
    "            return default\n",
    "    def __contains__(self, key):\n",
    "        return key in self.keys() or str(key) in self.keys()\n",
    "        \n",
    "    "
   ]
  },
  {
   "cell_type": "code",
   "execution_count": 4,
   "metadata": {},
   "outputs": [
    {
     "output_type": "stream",
     "name": "stdout",
     "text": [
      "two four\n"
     ]
    }
   ],
   "source": [
    "d = StrKeyDict0([('2', 'two'), ('4', 'four')])\n",
    "print(d['2'], d[4])"
   ]
  },
  {
   "cell_type": "code",
   "execution_count": 5,
   "metadata": {},
   "outputs": [
    {
     "output_type": "error",
     "ename": "KeyError",
     "evalue": "'1'",
     "traceback": [
      "\u001b[0;31m---------------------------------------------------------------------------\u001b[0m",
      "\u001b[0;31mKeyError\u001b[0m                                  Traceback (most recent call last)",
      "\u001b[0;32m<ipython-input-5-14775e0b7396>\u001b[0m in \u001b[0;36m<module>\u001b[0;34m()\u001b[0m\n\u001b[0;32m----> 1\u001b[0;31m \u001b[0mprint\u001b[0m\u001b[0;34m(\u001b[0m\u001b[0md\u001b[0m\u001b[0;34m[\u001b[0m\u001b[0;36m1\u001b[0m\u001b[0;34m]\u001b[0m\u001b[0;34m)\u001b[0m\u001b[0;34m\u001b[0m\u001b[0;34m\u001b[0m\u001b[0m\n\u001b[0m",
      "\u001b[0;32m<ipython-input-3-b0f675c3ba32>\u001b[0m in \u001b[0;36m__missing__\u001b[0;34m(self, key)\u001b[0m\n\u001b[1;32m      5\u001b[0m         \u001b[0;32mif\u001b[0m \u001b[0misinstance\u001b[0m\u001b[0;34m(\u001b[0m\u001b[0mkey\u001b[0m\u001b[0;34m,\u001b[0m \u001b[0mstr\u001b[0m\u001b[0;34m)\u001b[0m\u001b[0;34m:\u001b[0m\u001b[0;34m\u001b[0m\u001b[0;34m\u001b[0m\u001b[0m\n\u001b[1;32m      6\u001b[0m             \u001b[0;32mraise\u001b[0m \u001b[0mKeyError\u001b[0m\u001b[0;34m(\u001b[0m\u001b[0mkey\u001b[0m\u001b[0;34m)\u001b[0m\u001b[0;34m\u001b[0m\u001b[0;34m\u001b[0m\u001b[0m\n\u001b[0;32m----> 7\u001b[0;31m         \u001b[0;32mreturn\u001b[0m \u001b[0mself\u001b[0m\u001b[0;34m[\u001b[0m\u001b[0mstr\u001b[0m\u001b[0;34m(\u001b[0m\u001b[0mkey\u001b[0m\u001b[0;34m)\u001b[0m\u001b[0;34m]\u001b[0m\u001b[0;34m\u001b[0m\u001b[0;34m\u001b[0m\u001b[0m\n\u001b[0m\u001b[1;32m      8\u001b[0m     \u001b[0;32mdef\u001b[0m \u001b[0mget\u001b[0m\u001b[0;34m(\u001b[0m\u001b[0mself\u001b[0m\u001b[0;34m,\u001b[0m \u001b[0mkey\u001b[0m\u001b[0;34m,\u001b[0m \u001b[0mdefault\u001b[0m\u001b[0;34m=\u001b[0m\u001b[0;32mNone\u001b[0m\u001b[0;34m)\u001b[0m\u001b[0;34m:\u001b[0m\u001b[0;34m\u001b[0m\u001b[0;34m\u001b[0m\u001b[0m\n\u001b[1;32m      9\u001b[0m         \u001b[0;32mtry\u001b[0m\u001b[0;34m:\u001b[0m\u001b[0;34m\u001b[0m\u001b[0;34m\u001b[0m\u001b[0m\n",
      "\u001b[0;32m<ipython-input-3-b0f675c3ba32>\u001b[0m in \u001b[0;36m__missing__\u001b[0;34m(self, key)\u001b[0m\n\u001b[1;32m      4\u001b[0m     \u001b[0;32mdef\u001b[0m \u001b[0m__missing__\u001b[0m\u001b[0;34m(\u001b[0m\u001b[0mself\u001b[0m\u001b[0;34m,\u001b[0m \u001b[0mkey\u001b[0m\u001b[0;34m)\u001b[0m\u001b[0;34m:\u001b[0m\u001b[0;34m\u001b[0m\u001b[0;34m\u001b[0m\u001b[0m\n\u001b[1;32m      5\u001b[0m         \u001b[0;32mif\u001b[0m \u001b[0misinstance\u001b[0m\u001b[0;34m(\u001b[0m\u001b[0mkey\u001b[0m\u001b[0;34m,\u001b[0m \u001b[0mstr\u001b[0m\u001b[0;34m)\u001b[0m\u001b[0;34m:\u001b[0m\u001b[0;34m\u001b[0m\u001b[0;34m\u001b[0m\u001b[0m\n\u001b[0;32m----> 6\u001b[0;31m             \u001b[0;32mraise\u001b[0m \u001b[0mKeyError\u001b[0m\u001b[0;34m(\u001b[0m\u001b[0mkey\u001b[0m\u001b[0;34m)\u001b[0m\u001b[0;34m\u001b[0m\u001b[0;34m\u001b[0m\u001b[0m\n\u001b[0m\u001b[1;32m      7\u001b[0m         \u001b[0;32mreturn\u001b[0m \u001b[0mself\u001b[0m\u001b[0;34m[\u001b[0m\u001b[0mstr\u001b[0m\u001b[0;34m(\u001b[0m\u001b[0mkey\u001b[0m\u001b[0;34m)\u001b[0m\u001b[0;34m]\u001b[0m\u001b[0;34m\u001b[0m\u001b[0;34m\u001b[0m\u001b[0m\n\u001b[1;32m      8\u001b[0m     \u001b[0;32mdef\u001b[0m \u001b[0mget\u001b[0m\u001b[0;34m(\u001b[0m\u001b[0mself\u001b[0m\u001b[0;34m,\u001b[0m \u001b[0mkey\u001b[0m\u001b[0;34m,\u001b[0m \u001b[0mdefault\u001b[0m\u001b[0;34m=\u001b[0m\u001b[0;32mNone\u001b[0m\u001b[0;34m)\u001b[0m\u001b[0;34m:\u001b[0m\u001b[0;34m\u001b[0m\u001b[0;34m\u001b[0m\u001b[0m\n",
      "\u001b[0;31mKeyError\u001b[0m: '1'"
     ]
    }
   ],
   "source": [
    "print(d[1])"
   ]
  },
  {
   "cell_type": "code",
   "execution_count": 7,
   "metadata": {},
   "outputs": [
    {
     "output_type": "execute_result",
     "data": {
      "text/plain": [
       "'ok'"
      ]
     },
     "metadata": {},
     "execution_count": 7
    }
   ],
   "source": [
    "d.get(1,'ok')"
   ]
  },
  {
   "cell_type": "code",
   "execution_count": 8,
   "metadata": {},
   "outputs": [
    {
     "output_type": "execute_result",
     "data": {
      "text/plain": [
       "True"
      ]
     },
     "metadata": {},
     "execution_count": 8
    }
   ],
   "source": [
    "2 in d"
   ]
  },
  {
   "source": [
    "## 3.5 字典的变种"
   ],
   "cell_type": "markdown",
   "metadata": {}
  },
  {
   "source": [
    "1. collections.OrderedDict\n",
    "这个类型在添加键的时候会保持顺序，因此键的迭代次序总是一致的。OrderedDict 的 popitem 方法默认删除并返回的是字典里的最后一个元素，但是如果像 my_odict.popitem(last=False) 这样调用它，那么它删除并返回第一个被添加进去的元素。\n",
    "2. collections.ChainMap\n",
    "该类型可以容纳数个不同的映射对象，然后在进行键查找操作的时候，这些对象会被当作一个整体被逐个查找，直到键被找到为止。这个功能在给有嵌套作用域的语言做解释器的时候很有用，可以用一个映射对象来代表一个作用域的上下文。\n",
    "3. collections.Counter\n",
    "这个映射类型会给键准备一个整数计数器。每次更新一个键的时候都会增加这个计数器。所以这个类型可以用来给可散列表对象计数，或者是当成多重集来用——多重集合就是集合里的元素可以出现不止一次。Counter 实现了 + 和 - 运算符用来合并记录，还有像most_common([n]) 这类很有用的方法。most_common([n]) 会按照次序返回映射里最常见的 n 个键和它们的计数.\n",
    "4. collections.UserDict\n",
    "这个类其实就是把标准 dict 用纯 Python 又实现了一遍。跟 OrderedDict、ChainMap 和 Counter 这些开箱即用的类型不同，UserDict 是让用户继承写子类的。下面就来试试。\n"
   ],
   "cell_type": "markdown",
   "metadata": {}
  },
  {
   "cell_type": "code",
   "execution_count": 10,
   "metadata": {},
   "outputs": [
    {
     "output_type": "stream",
     "name": "stdout",
     "text": [
      "Counter({'f': 3, 'a': 2, 'j': 2, 's': 2, 'd': 2, 'g': 2, 'b': 1, 'r': 1, 'l': 1, 'i': 1})\nCounter({'a': 7, 'f': 3, 'z': 3, 'j': 2, 's': 2, 'd': 2, 'g': 2, 'b': 1, 'r': 1, 'l': 1, 'i': 1})\n[('a', 7), ('f', 3)]\n"
     ]
    }
   ],
   "source": [
    "# 利用Counter来计算单词中各个字母出现的次数\n",
    "ct = collections.Counter('abrajsfdlsjdfgifg')\n",
    "print(ct)\n",
    "ct.update('aaaaazzz')\n",
    "print(ct)\n",
    "print(ct.most_common(2))"
   ]
  },
  {
   "source": [
    "## 3.6 子类化UserDict\n"
   ],
   "cell_type": "markdown",
   "metadata": {}
  }
 ],
 "metadata": {
  "kernelspec": {
   "display_name": "Python 3",
   "language": "python",
   "name": "python3"
  },
  "language_info": {
   "codemirror_mode": {
    "name": "ipython",
    "version": 3
   },
   "file_extension": ".py",
   "mimetype": "text/x-python",
   "name": "python",
   "nbconvert_exporter": "python",
   "pygments_lexer": "ipython3",
   "version": "3.7.3-final"
  }
 },
 "nbformat": 4,
 "nbformat_minor": 2
}