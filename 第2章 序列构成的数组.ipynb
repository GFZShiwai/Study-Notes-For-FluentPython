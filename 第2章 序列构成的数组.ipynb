{
 "cells": [
  {
   "cell_type": "markdown",
   "metadata": {},
   "source": [
    "# 第2章 序列构成的数组"
   ]
  },
  {
   "cell_type": "markdown",
   "metadata": {},
   "source": [
    "## 2.1 内置序列类型概览"
   ]
  },
  {
   "cell_type": "markdown",
   "metadata": {},
   "source": [
    "Python标准库用C实现了丰富的序列类型，列举如下：  \n",
    "  \n",
    "1. 容器序列(能存放不同类型的数据)\n",
    "- list\n",
    "- tuple\n",
    "- collections.deque  \n",
    "2. 扁平序列（只能存放相同类型的数据）\n",
    "- str\n",
    "- bytes\n",
    "- array.array\n",
    "- memoryview\n",
    "----------\n",
    "1. 可变序列  \n",
    "- list\n",
    "- bytearray\n",
    "- array.array\n",
    "- collections.deque\n",
    "- memoryview  \n",
    "\n",
    "2.不可变序列\n",
    "- tuple\n",
    "- str\n",
    "- bytes"
   ]
  },
  {
   "cell_type": "markdown",
   "metadata": {},
   "source": [
    "可变序列（MutableSequence）和不可变序列\n",
    "（Sequence）的差异    \n",
    "\n",
    "<img src=\"./images/2_1.png\" width=\"30%\">"
   ]
  },
  {
   "cell_type": "markdown",
   "metadata": {},
   "source": [
    "## 2.2 列表推导和生成器表达式"
   ]
  },
  {
   "cell_type": "markdown",
   "metadata": {},
   "source": [
    "> 列表推导 -> list comprehension (listcomps) \n",
    "_______________ \n",
    "> 生成器表达式 ->  generator expression (genexps)"
   ]
  },
  {
   "cell_type": "markdown",
   "metadata": {},
   "source": [
    "### 2.2.1 列表推导和可读性"
   ]
  },
  {
   "cell_type": "markdown",
   "metadata": {},
   "source": [
    "观察以下两段代码（把字符串转化为Unicode码位的列表），其可读性易见分明："
   ]
  },
  {
   "cell_type": "code",
   "execution_count": 1,
   "metadata": {},
   "outputs": [
    {
     "name": "stdout",
     "output_type": "stream",
     "text": [
      "[33, 64, 35, 36, 84, 89]\n",
      "[33, 64, 35, 36, 84, 89]\n",
      "True\n"
     ]
    }
   ],
   "source": [
    "# 代码1（生成器表达式）\n",
    "symbols = '!@#$TY'\n",
    "code1 = [ord(symbol) for symbol in symbols]\n",
    "print(code1)\n",
    "\n",
    "# 代码2（for循环）\n",
    "symbols = '!@#$TY'\n",
    "code2 = []\n",
    "for symbol in symbols:\n",
    "    code2.append(ord(symbol))\n",
    "print(code2)\n",
    "\n",
    "# 判断结果相等性\n",
    "print(code1 == code2)"
   ]
  },
  {
   "cell_type": "markdown",
   "metadata": {},
   "source": [
    "- 通常的原则是，使用列表推导来创建新的列表，并尽量保持简短。 \n",
    "   \n",
    "- python3中的列表推导有自己的局部作用域，表达式内部的变量和赋值只在局部起作用，表达式的上下文中的同名变量还可以被正常引用，局部变量并不会影响到他们。"
   ]
  },
  {
   "cell_type": "code",
   "execution_count": 2,
   "metadata": {},
   "outputs": [
    {
     "name": "stdout",
     "output_type": "stream",
     "text": [
      "ABC\n",
      "['A', 'B', 'C']\n"
     ]
    }
   ],
   "source": [
    "x = 'ABC'\n",
    "dummy = [x for x in x]\n",
    "print(x)\n",
    "print(dummy)"
   ]
  },
  {
   "cell_type": "markdown",
   "metadata": {},
   "source": [
    "### 2.2.2   列表推导同filter和map的比较"
   ]
  },
  {
   "cell_type": "markdown",
   "metadata": {},
   "source": [
    "1. filter()函数简介\n",
    "\n",
    "- filter() 函数用于过滤序列，过滤掉不符合条件的元素，返回一个迭代器对象，如果要转换为列表，可以使用 list() 来转换。\n",
    "\n",
    "该接收两个参数，第一个为函数，第二个为序列，序列的每个元素作为参数传递给函数进行判断，然后返回 True 或 False，最后将返回 True 的元素放到新列表中。\n",
    "\n",
    "- 以下是 filter() 方法的语法:\n",
    "\n",
    "filter(function, iterable)\n",
    "\n",
    "2. map()函数简介\n",
    "\n",
    "- map() 函数会根据提供的函数对指定序列做映射。\n",
    "\n",
    "第一个参数 function 以参数序列中的每一个元素调用 function 函数，返回包含每次 function 函数返回值的新列表。\n",
    "\n",
    "- 以下是 map() 方法的语法:\n",
    "\n",
    "map(function, iterable, ...)"
   ]
  },
  {
   "cell_type": "code",
   "execution_count": 3,
   "metadata": {},
   "outputs": [
    {
     "name": "stdout",
     "output_type": "stream",
     "text": [
      "[64, 94, 94]\n",
      "[64, 94, 94]\n"
     ]
    }
   ],
   "source": [
    "symbols = \"@$%^%^\"\n",
    "beyond_ascii = [ord(s) for s in symbols if ord(s) > 60]\n",
    "print(beyond_ascii)\n",
    "\n",
    "beyond_ascii = list(filter(lambda c : c > 60, map(ord, symbols)))\n",
    "print(beyond_ascii)"
   ]
  },
  {
   "cell_type": "markdown",
   "metadata": {},
   "source": [
    "### 2.2.3 笛卡尔积\n",
    "\n",
    "两个或两个以上列表中的元素对构成元组，这些元组构成的列表就是笛卡尔积。"
   ]
  },
  {
   "cell_type": "code",
   "execution_count": 4,
   "metadata": {},
   "outputs": [
    {
     "data": {
      "text/plain": [
       "[('black', 'S'),\n",
       " ('black', 'M'),\n",
       " ('black', 'L'),\n",
       " ('white', 'S'),\n",
       " ('white', 'M'),\n",
       " ('white', 'L')]"
      ]
     },
     "execution_count": 4,
     "metadata": {},
     "output_type": "execute_result"
    }
   ],
   "source": [
    "colors = ['black', 'white']\n",
    "sizes = ['S', 'M', 'L']\n",
    "tshirts = [(color, size) for color in colors \n",
    "                         for size in sizes]\n",
    "tshirts"
   ]
  },
  {
   "cell_type": "markdown",
   "metadata": {},
   "source": [
    "列表推导的作用只有一个，就是生成列表。\n",
    "\n",
    "如果想生成其他类型的序列，生成器表达式就派上了用场。"
   ]
  },
  {
   "cell_type": "markdown",
   "metadata": {},
   "source": [
    "### 2.2.4   生成器表达式\n",
    "虽然也可以用列表推导来初始化元组、数组或其他序列类型，但是<u>生成器表达式</u>是更好的选择。这是因为生成器表达式背后遵守了迭代器协议，可以逐个地产出元素，而不\n",
    "\n",
    "是先建立一个完整的列表，然后再把这个列表传递到某个构造函数里。前面那种方式显然能够节省内存。生成器表达式的语法跟列表推导差不多，只不过把方括号换成圆括\n",
    "\n",
    "号而已。\n"
   ]
  },
  {
   "cell_type": "code",
   "execution_count": 5,
   "metadata": {},
   "outputs": [
    {
     "name": "stdout",
     "output_type": "stream",
     "text": [
      "(33, 64, 35, 36, 37, 94, 37)\n"
     ]
    },
    {
     "data": {
      "text/plain": [
       "array('I', [33, 64, 35, 36, 37, 94, 37])"
      ]
     },
     "execution_count": 5,
     "metadata": {},
     "output_type": "execute_result"
    }
   ],
   "source": [
    "# 示例1\n",
    "symbols = \"!@#$%^%\"\n",
    "print(tuple(ord(symbol) for symbol in symbols))\n",
    "import array\n",
    "array.array('I', (ord(symbol) for symbol in symbols))"
   ]
  },
  {
   "cell_type": "code",
   "execution_count": 6,
   "metadata": {},
   "outputs": [
    {
     "name": "stdout",
     "output_type": "stream",
     "text": [
      "black S <class 'str'>\n",
      "black M <class 'str'>\n",
      "black M <class 'str'>\n",
      "white S <class 'str'>\n",
      "white M <class 'str'>\n",
      "white M <class 'str'>\n"
     ]
    }
   ],
   "source": [
    "# 示例2 使用生成器表达式计算笛卡尔积,避免额外的内存占用\n",
    "colors = ['black', 'white']\n",
    "sizes = ['S', 'M', 'M']\n",
    "for tshirt in ('%s %s' % (c, s) for c in colors for s in sizes):\n",
    "    print(tshirt, type(tshirt))\n"
   ]
  },
  {
   "cell_type": "markdown",
   "metadata": {},
   "source": [
    "## 2.3 元组不仅仅是不可变的列表\n",
    "### 2.3.1   元组和记录"
   ]
  },
  {
   "cell_type": "code",
   "execution_count": 7,
   "metadata": {},
   "outputs": [
    {
     "name": "stdout",
     "output_type": "stream",
     "text": [
      "BRA/CE342567\n",
      "ESP/XDA205856\n",
      "USA/31195855\n",
      "USA\n",
      "BRA\n",
      "ESP\n"
     ]
    }
   ],
   "source": [
    "# 把元组用作记录\n",
    "\n",
    "# 洛杉矶国际机场经纬度\n",
    "lax_coordinates = (33.9425, -118.408056)                             \n",
    "# 东京市的一些信息：市名、年份、人口（单位：百万）、人口变化（单位：百分比）和面积（单位：平方千米）\n",
    "city, year, pop, chg, area = ('Tokyo', 2003, 32450, 0.66, 8014)      \n",
    "#一个元组列表，元组的形式为（country_code, passport_number）\n",
    "traveler_ids = [('USA', '31195855'),  ('BRA', 'CE342567'),  ('ESP', 'XDA205856')]\n",
    "# 在迭代的过程中，passport 变量被绑定到每个元组上。\n",
    "for passport in sorted(traveler_ids): \n",
    "    # % 格式运算符能被匹配到对应的元组元素上\n",
    "    print(\"%s/%s\" % passport)        \n",
    "# for 循环可以分别提取元组里的元素，也叫作拆包（unpacking）。因为元组中第二个元素对我们没有什么用，所以它赋值给“_”占位符。\n",
    "for country, _ in traveler_ids:       \n",
    "    print(country)"
   ]
  },
  {
   "cell_type": "markdown",
   "metadata": {},
   "source": [
    "### 2.3.2   元组拆包\n",
    "\n",
    "元组拆包可以应用到任何可迭代对象上，唯一的硬性要求是，被可迭代对象的元素数量必须要跟接受这些元素的元组的空档数一致。\n",
    "\n",
    "除非我们用*来表示忽略多余的元素。\n",
    "\n",
    "还可以用*运算符把一个可迭代对象拆开作为函数的参数。"
   ]
  },
  {
   "cell_type": "code",
   "execution_count": 8,
   "metadata": {},
   "outputs": [
    {
     "name": "stdout",
     "output_type": "stream",
     "text": [
      "a = 20, b = 10\n"
     ]
    }
   ],
   "source": [
    "# 一个很优雅的写法当属不使用中间变量交换两个变量的值\n",
    "a = 10\n",
    "b = 20\n",
    "a, b = b, a\n",
    "print(\"a = %d, b = %d\" % (a, b))"
   ]
  },
  {
   "cell_type": "code",
   "execution_count": 9,
   "metadata": {},
   "outputs": [
    {
     "name": "stdout",
     "output_type": "stream",
     "text": [
      "(2, 4)\n",
      "(2, 4)\n"
     ]
    },
    {
     "data": {
      "text/plain": [
       "(2, 4)"
      ]
     },
     "execution_count": 9,
     "metadata": {},
     "output_type": "execute_result"
    }
   ],
   "source": [
    "# 用*运算符把一个可迭代对象拆开作为函数的参数\n",
    "print(divmod(20, 8))\n",
    "t = (20, 8)\n",
    "print(divmod(*t))\n",
    "quotient, remainder = divmod(*t)\n",
    "quotient, remainder\n"
   ]
  },
  {
   "cell_type": "markdown",
   "metadata": {},
   "source": [
    "下面是另一个例子，是一个函数通过使用元组返回多个值，然后调用函数的代码就可以轻松地接受这些值。"
   ]
  },
  {
   "cell_type": "code",
   "execution_count": 10,
   "metadata": {},
   "outputs": [
    {
     "data": {
      "text/plain": [
       "('/home/luciano/.ssh', 'idrsa.pub')"
      ]
     },
     "execution_count": 10,
     "metadata": {},
     "output_type": "execute_result"
    }
   ],
   "source": [
    "# os.path.split()返回以路径和最后一个文件名组成的元组（path, last_part）\n",
    "import os\n",
    "path, filename = os.path.split('/home/luciano/.ssh/idrsa.pub')\n",
    "path, filename"
   ]
  },
  {
   "cell_type": "markdown",
   "metadata": {},
   "source": [
    "用*来处理剩下的元素"
   ]
  },
  {
   "cell_type": "markdown",
   "metadata": {},
   "source": [
    "在python中，函数用*args来获取不确定数量的参数算是一种经典的写法了。\n",
    "\n",
    "于是python3中，这个概念扩展到了平行赋值中。"
   ]
  },
  {
   "cell_type": "code",
   "execution_count": 11,
   "metadata": {},
   "outputs": [
    {
     "data": {
      "text/plain": [
       "(0, 1, [])"
      ]
     },
     "execution_count": 11,
     "metadata": {},
     "output_type": "execute_result"
    }
   ],
   "source": [
    "a, b, *rest = range(5)\n",
    "# a, b, rest\n",
    "a, b, *rest = range(3)\n",
    "# a, b, rest\n",
    "a, b, *rest = range(2)\n",
    "a, b, rest"
   ]
  },
  {
   "cell_type": "markdown",
   "metadata": {},
   "source": [
    "### 2.3.3   嵌套元组拆包\n",
    "\n",
    "接受表达式的元组可以是嵌套式的，例如(a, b, (c, d))。只要这个接受元组的嵌套结构符合表达式本身的嵌套结构，python就可以做出正确的对应。\n",
    "\n"
   ]
  },
  {
   "cell_type": "code",
   "execution_count": 12,
   "metadata": {},
   "outputs": [
    {
     "name": "stdout",
     "output_type": "stream",
     "text": [
      "                |   lat.    |   long.  \n",
      "Mexico City     |   19.4333 |  -99.1333\n",
      "New York-Newark |   40.8086 |  -74.0204\n",
      "Sao Paulo       |  -23.5478 |  -46.6358\n"
     ]
    }
   ],
   "source": [
    "metro_areas = [\n",
    "('Tokyo','JP',36.933,(35.689722,139.691667)), \n",
    "('Delhi NCR', 'IN', 21.935, (28.613889, 77.208889)),\n",
    "('Mexico City', 'MX', 20.142, (19.433333, -99.133333)),\n",
    "('New York-Newark', 'US', 20.104, (40.808611, -74.020386)),\n",
    "('Sao Paulo', 'BR', 19.649, (-23.547778, -46.635833)),\n",
    "]\n",
    "print('{:15} | {:^9} | {:^9}'.format('', 'lat.', 'long.'))\n",
    "fmt = '{:15} | {:9.4f} | {:9.4f}'\n",
    "for name, cc, pop, (latitude, longitude) in metro_areas: \n",
    "    if longitude <= 0: \n",
    "        print(fmt.format(name, latitude, longitude))"
   ]
  },
  {
   "cell_type": "markdown",
   "metadata": {},
   "source": [
    "### 2.3.4   具名元组"
   ]
  },
  {
   "cell_type": "markdown",
   "metadata": {},
   "source": [
    "collections.namedtuple创建的类的实例所消耗的内存和元组是一样的，这是因为字段名存在对应的类里。\n",
    "\n",
    "同时，这个实例跟普通的对象实例比起来也小一些，因为python不会用__dict__来存放这些实例的属性。"
   ]
  },
  {
   "cell_type": "code",
   "execution_count": 13,
   "metadata": {},
   "outputs": [
    {
     "data": {
      "text/plain": [
       "City(name='Tokyo', country='JP', population=36.933, coordinates=(35.689722, 139.691667))"
      ]
     },
     "execution_count": 13,
     "metadata": {},
     "output_type": "execute_result"
    }
   ],
   "source": [
    "# 定义和使用具名元组\n",
    "from collections import namedtuple\n",
    "City = namedtuple('City', 'name country population coordinates')\n",
    "tokyo = City('Tokyo', 'JP', 36.933, (35.689722, 139.691667))\n",
    "tokyo"
   ]
  },
  {
   "cell_type": "code",
   "execution_count": 14,
   "metadata": {},
   "outputs": [
    {
     "data": {
      "text/plain": [
       "36.933"
      ]
     },
     "execution_count": 14,
     "metadata": {},
     "output_type": "execute_result"
    }
   ],
   "source": [
    "tokyo.population"
   ]
  },
  {
   "cell_type": "code",
   "execution_count": 15,
   "metadata": {},
   "outputs": [
    {
     "data": {
      "text/plain": [
       "(35.689722, 139.691667)"
      ]
     },
     "execution_count": 15,
     "metadata": {},
     "output_type": "execute_result"
    }
   ],
   "source": [
    "tokyo.coordinates"
   ]
  },
  {
   "cell_type": "code",
   "execution_count": 16,
   "metadata": {},
   "outputs": [
    {
     "data": {
      "text/plain": [
       "'JP'"
      ]
     },
     "execution_count": 16,
     "metadata": {},
     "output_type": "execute_result"
    }
   ],
   "source": [
    "tokyo[1]"
   ]
  },
  {
   "cell_type": "markdown",
   "metadata": {},
   "source": [
    "除了从普通元组那里继承来的属性之外，具名元组还有一些自己专有的属性。以下示例中就展示了几个最有用的：_fields 类属性、类方法_make(iterable) 和实例方法_asdict()。"
   ]
  },
  {
   "cell_type": "code",
   "execution_count": 17,
   "metadata": {},
   "outputs": [
    {
     "data": {
      "text/plain": [
       "('name', 'country', 'population', 'coordinates')"
      ]
     },
     "execution_count": 17,
     "metadata": {},
     "output_type": "execute_result"
    }
   ],
   "source": [
    "City._fields \n"
   ]
  },
  {
   "cell_type": "code",
   "execution_count": 18,
   "metadata": {},
   "outputs": [
    {
     "data": {
      "text/plain": [
       "OrderedDict([('name', 'Delhi NCR'),\n",
       "             ('country', 'IN'),\n",
       "             ('population', 21.935),\n",
       "             ('coordinates', LatLong(lat=28.613889, long=77.208889))])"
      ]
     },
     "execution_count": 18,
     "metadata": {},
     "output_type": "execute_result"
    }
   ],
   "source": [
    "\n",
    "LatLong = namedtuple('LatLong', 'lat long')\n",
    "delhi_data = ('Delhi NCR', 'IN', 21.935, LatLong(28.613889, 77.208889))\n",
    "delhi = City._make(delhi_data)\n",
    "delhi._asdict()\n",
    "\n"
   ]
  },
  {
   "cell_type": "code",
   "execution_count": 19,
   "metadata": {},
   "outputs": [
    {
     "name": "stdout",
     "output_type": "stream",
     "text": [
      "name: Delhi NCR\n",
      "country: IN\n",
      "population: 21.935\n",
      "coordinates: LatLong(lat=28.613889, long=77.208889)\n"
     ]
    }
   ],
   "source": [
    "for key, value in delhi._asdict().items():\n",
    "    print(key + ':' , value)"
   ]
  },
  {
   "cell_type": "code",
   "execution_count": 20,
   "metadata": {},
   "outputs": [
    {
     "data": {
      "text/plain": [
       "(20, 10)"
      ]
     },
     "execution_count": 20,
     "metadata": {},
     "output_type": "execute_result"
    }
   ],
   "source": [
    "tuple(reversed((10,20)))"
   ]
  },
  {
   "cell_type": "markdown",
   "metadata": {},
   "source": [
    "## 2.4 切片\n",
    "\n",
    "切片操作远比你想象的强大。\n"
   ]
  },
  {
   "cell_type": "markdown",
   "metadata": {},
   "source": [
    "### 2.4.1 为什么切片和区间会忽略最后一个元素\n",
    "\n",
    "- 当只有最后一个位置信息时，我们可以快速看出切片和区间里会有几个元素。\n",
    "\n",
    "- 当起止位置信息都可见时，我们可以快速计算出切片和区间的长度，用后一个数减去第一个下标(stop - start)即可。\n",
    "\n",
    "- 这样做也可以让我们利用任意一个下标来把序列分割成不重叠的两部分，只要写成`mylist[:x]`和`mylist[x:]`就可以了。"
   ]
  },
  {
   "cell_type": "markdown",
   "metadata": {},
   "source": [
    "接下来进一步看看Python解释器是如何理解切片操作的。\n",
    "\n"
   ]
  },
  {
   "cell_type": "markdown",
   "metadata": {},
   "source": [
    "### 2.4.2 对对象进行切片\n",
    "\n"
   ]
  },
  {
   "cell_type": "code",
   "execution_count": 21,
   "metadata": {},
   "outputs": [
    {
     "name": "stdout",
     "output_type": "stream",
     "text": [
      "bye\n",
      "elcycyb\n",
      "eccb\n"
     ]
    }
   ],
   "source": [
    "# 在a和b之间以间隔c取值[a:b:c]\n",
    "# 实际调用seq.__getitem__(slice(start, stop, step))\n",
    "s = 'bycycle'\n",
    "print(s[::3])\n",
    "print(s[::-1])\n",
    "print(s[::-2])"
   ]
  },
  {
   "cell_type": "code",
   "execution_count": 22,
   "metadata": {},
   "outputs": [
    {
     "name": "stdout",
     "output_type": "stream",
     "text": [
      "\n",
      "0.....6................................40........52...55........\n",
      "1909  Pimoroni PiBrella                   $17.50     3    $52.50\n",
      "1489  6mm Tactile Switch x20              $4.95      2    $9.90\n",
      "1510  Panavise Jr. - PV-201               $28.00     1    $28.00\n",
      "1601  PiTFT Mini Kit 320x240              $34.95     1    $34.95\n",
      "\n"
     ]
    }
   ],
   "source": [
    "# 给切片命名\n",
    "invoice = \"\"\"\n",
    "0.....6................................40........52...55........\n",
    "1909  Pimoroni PiBrella                   $17.50     3    $52.50\n",
    "1489  6mm Tactile Switch x20              $4.95      2    $9.90\n",
    "1510  Panavise Jr. - PV-201               $28.00     1    $28.00\n",
    "1601  PiTFT Mini Kit 320x240              $34.95     1    $34.95\n",
    "\"\"\"\n",
    "print(invoice)\n"
   ]
  },
  {
   "cell_type": "code",
   "execution_count": 23,
   "metadata": {},
   "outputs": [
    {
     "name": "stdout",
     "output_type": "stream",
     "text": [
      "  $17.50     Pimoroni PiBrella                 \n",
      "  $4.95      6mm Tactile Switch x20            \n",
      "  $28.00     Panavise Jr. - PV-201             \n",
      "  $34.95     PiTFT Mini Kit 320x240            \n",
      " \n"
     ]
    }
   ],
   "source": [
    "SKU = slice(0,6)\n",
    "DESCRIPTION = slice(6, 40)\n",
    "UNIT_PRICE = slice(40, 52)\n",
    "QUANTITY = slice(52, 55)\n",
    "ITEM_TOTAL = slice(55,None)\n",
    "line_items = invoice.split('\\n')[2:]\n",
    "for item in line_items:\n",
    "    print(item[UNIT_PRICE], item[DESCRIPTION])"
   ]
  },
  {
   "cell_type": "markdown",
   "metadata": {},
   "source": [
    "### 2.4.3   多维切片和省略"
   ]
  },
  {
   "cell_type": "markdown",
   "metadata": {},
   "source": [
    "[] 运算符里还可以使用以逗号分开的多个索引或者是切片，外部库NumPy 里就用到了这个特性，二维的 numpy.ndarray 就可以用 a[i,j] 这种形式来获取，抑或是用 a[m:n, k:l] 的方式来得到二维切片。\n",
    "\n",
    "要正确处理这种 [] 运算符的话，对象的特殊方法 __getitem__ 和 __setitem__ 需要以元组的形式来接收a[i, j] 中的索引。也就是说，如果要得到 a[i, j] 的值，Python 会调用 a.__getitem__((i, j))。\n",
    "\n",
    "Python 内置的序列类型都是一维的，因此它们只支持单一的索引，成对出现的索引是没有用的。\n",
    "\n",
    "省略（ellipsis）的正确书写方法是三个英语句号（...），而不是Unicdoe 码位 U+2026 表示的半个省略号（...）。省略在 Python 解析器眼里是一个符号，而实际上它是 Ellipsis 对象的别名，而 Ellipsis 对象又是 ellipsis 类的单一实例。 它可以当作切片规范的一部分，也可以用在函数的参数清单中，比如 f(a, ..., z)，或 a\\[i:...\\]。在NumPy 中，... 用作多维数组切片的快捷方式。如果 x 是四维数组，那么 x\\[i, ...\\] 就是 x\\[i, :, :, :\\] 的缩写。\n",
    "\n",
    "除了用来提取序列里的内容，切片还可以用来就地修改可变序列，也就是说修改的时候不需要重新组建序列。\n"
   ]
  },
  {
   "cell_type": "markdown",
   "metadata": {},
   "source": [
    "### 2.4.4   给切片赋值\n"
   ]
  },
  {
   "cell_type": "code",
   "execution_count": 24,
   "metadata": {},
   "outputs": [
    {
     "name": "stdout",
     "output_type": "stream",
     "text": [
      "[0, 1, 2, 3, 4, 5, 6, 7, 8, 9]\n",
      "[0, 1, 20, 30, 5, 6, 7, 8, 9]\n",
      "[0, 1, 20, 30, 5, 8, 9]\n",
      "[0, 1, 20, 11, 5, 22, 9]\n",
      "[0, 1, 100, 22, 9]\n"
     ]
    }
   ],
   "source": [
    "l = list(range(10))\n",
    "print(l)\n",
    "\n",
    "l[2:5] = [20, 30]\n",
    "print(l)\n",
    "\n",
    "del l[5:7]\n",
    "print(l)\n",
    "\n",
    "l[3::2] = [11, 22]\n",
    "print(l) \n",
    "\n",
    "#l[2:5] = 100\n",
    "\n",
    "l[2:5] = [100]\n",
    "print(l)"
   ]
  },
  {
   "cell_type": "markdown",
   "metadata": {},
   "source": [
    "## 2.5 对序列使用+和*"
   ]
  },
  {
   "cell_type": "markdown",
   "metadata": {},
   "source": [
    "不修改原有的操作对象，而是构建一个全新的序列。"
   ]
  },
  {
   "cell_type": "code",
   "execution_count": 25,
   "metadata": {},
   "outputs": [
    {
     "name": "stdout",
     "output_type": "stream",
     "text": [
      "[['_', '_', '_'], ['_', '_', '_'], ['_', '_', '_']]\n",
      "[['_', '_', '_'], ['_', '_', 'X'], ['_', '_', '_']]\n"
     ]
    }
   ],
   "source": [
    "# 建立由列表组成的列表\n",
    "board = [['_'] * 3 for i in range(3)]\n",
    "print(board)\n",
    "board[1][2] = 'X'\n",
    "print(board)"
   ]
  },
  {
   "cell_type": "code",
   "execution_count": 26,
   "metadata": {},
   "outputs": [
    {
     "name": "stdout",
     "output_type": "stream",
     "text": [
      "[['_', '_', '_'], ['_', '_', '_'], ['_', '_', '_']]\n",
      "[['_', '_', 'X'], ['_', '_', 'X'], ['_', '_', 'X']]\n"
     ]
    }
   ],
   "source": [
    "# 另一种方法\n",
    "# 外面的列表其实包含3个指向同一个数组的引用\n",
    "weird_board = [['_'] * 3] * 3\n",
    "print(weird_board)\n",
    "weird_board[1][2] = 'X'\n",
    "print(weird_board)"
   ]
  },
  {
   "cell_type": "markdown",
   "metadata": {},
   "source": [
    "## 2.6  序列的增量赋值"
   ]
  },
  {
   "cell_type": "markdown",
   "metadata": {},
   "source": [
    "增量赋值运算符`+=`和`*=`的表现取决于他们的第一个操作对象。\n",
    "\n",
    "以下主要讨论`+=`,`*=`与之同理。\n",
    "\n",
    "根据左操作对象的类型是否实现了`__iadd__`（就地加法），来判断是否需要退一步调用`__add__`方法。\n"
   ]
  },
  {
   "cell_type": "code",
   "execution_count": 27,
   "metadata": {},
   "outputs": [
    {
     "name": "stdout",
     "output_type": "stream",
     "text": [
      "3006541136\n",
      "3006541136\n",
      "3006539376\n",
      "3017359120\n"
     ]
    }
   ],
   "source": [
    "l = [1, 2, 3]\n",
    "print(id(l))\n",
    "l *= 2\n",
    "print(id(l))\n",
    "\n",
    "t = (1, 2, 3)\n",
    "print(id(t))\n",
    "\n",
    "t *= 2\n",
    "print(id(t))"
   ]
  },
  {
   "cell_type": "markdown",
   "metadata": {},
   "source": [
    "不可变性对元组来说意味着什么？"
   ]
  },
  {
   "cell_type": "code",
   "execution_count": 28,
   "metadata": {},
   "outputs": [
    {
     "ename": "TypeError",
     "evalue": "'tuple' object does not support item assignment",
     "output_type": "error",
     "traceback": [
      "\u001b[0;31m-----------------------------------------------------------------------\u001b[0m",
      "\u001b[0;31mTypeError\u001b[0m                             Traceback (most recent call last)",
      "\u001b[0;32m<ipython-input-28-eeeba44a7350>\u001b[0m in \u001b[0;36m<module>\u001b[0;34m()\u001b[0m\n\u001b[1;32m      1\u001b[0m \u001b[0;31m# 一个关于+=的谜题\u001b[0m\u001b[0;34m\u001b[0m\u001b[0;34m\u001b[0m\u001b[0;34m\u001b[0m\u001b[0m\n\u001b[1;32m      2\u001b[0m \u001b[0mt\u001b[0m \u001b[0;34m=\u001b[0m \u001b[0;34m(\u001b[0m\u001b[0;36m1\u001b[0m\u001b[0;34m,\u001b[0m \u001b[0;36m2\u001b[0m\u001b[0;34m,\u001b[0m \u001b[0;34m[\u001b[0m\u001b[0;36m30\u001b[0m\u001b[0;34m,\u001b[0m \u001b[0;36m40\u001b[0m\u001b[0;34m]\u001b[0m\u001b[0;34m)\u001b[0m\u001b[0;34m\u001b[0m\u001b[0;34m\u001b[0m\u001b[0m\n\u001b[0;32m----> 3\u001b[0;31m \u001b[0mt\u001b[0m\u001b[0;34m[\u001b[0m\u001b[0;36m2\u001b[0m\u001b[0;34m]\u001b[0m \u001b[0;34m+=\u001b[0m \u001b[0;34m[\u001b[0m\u001b[0;36m50\u001b[0m\u001b[0;34m,\u001b[0m \u001b[0;36m60\u001b[0m\u001b[0;34m]\u001b[0m\u001b[0;34m\u001b[0m\u001b[0;34m\u001b[0m\u001b[0m\n\u001b[0m\u001b[1;32m      4\u001b[0m \u001b[0mt\u001b[0m\u001b[0;34m\u001b[0m\u001b[0;34m\u001b[0m\u001b[0m\n",
      "\u001b[0;31mTypeError\u001b[0m: 'tuple' object does not support item assignment"
     ]
    }
   ],
   "source": [
    "# 一个关于+=的谜题\n",
    "t = (1, 2, [30, 40])\n",
    "t[2] += [50, 60]\n",
    "t"
   ]
  },
  {
   "cell_type": "code",
   "execution_count": 29,
   "metadata": {},
   "outputs": [
    {
     "name": "stdout",
     "output_type": "stream",
     "text": [
      "  1           0 LOAD_NAME                0 (t)\n",
      "              2 LOAD_CONST               0 (2)\n",
      "              4 DUP_TOP_TWO\n",
      "              6 BINARY_SUBSCR\n",
      "              8 LOAD_CONST               1 (50)\n",
      "             10 LOAD_CONST               2 (60)\n",
      "             12 BUILD_LIST               2\n",
      "             14 INPLACE_ADD\n",
      "             16 ROT_THREE\n",
      "             18 STORE_SUBSCR\n",
      "             20 LOAD_CONST               3 (None)\n",
      "             22 RETURN_VALUE\n"
     ]
    }
   ],
   "source": [
    "import dis\n",
    "dis.dis('t[2] += [50, 60]')"
   ]
  },
  {
   "cell_type": "markdown",
   "metadata": {},
   "source": [
    "至此我得到了 3 个教训。\n",
    "\n",
    "- 不要把可变对象放在元组里面。\n",
    "- 增量赋值不是一个原子操作。我们刚才也看到了，它虽然抛出了异常，但还是完成了操作。\n",
    "- 查看 Python 的字节码并不难，而且它对我们了解代码背后的运行机制很有帮助。\n"
   ]
  },
  {
   "cell_type": "markdown",
   "metadata": {},
   "source": [
    "## 2.7  *list.sort*方法和内置函数*sorted*"
   ]
  },
  {
   "cell_type": "markdown",
   "metadata": {},
   "source": [
    "- list.sort函数就地改变列表，返回None\n",
    "- sorted函数可以接受任何形式的可迭代对象作为参数，甚至包括不可变序列或生成器，而不管其传入何种参数，均会返回一个列表"
   ]
  },
  {
   "cell_type": "markdown",
   "metadata": {},
   "source": [
    "参数\n",
    "\n",
    "1. reverse True降序，False升序\n",
    "2. key 一个只含有一个参数的函数，这个函数会被用在序列里的每一个元素上，所产生的结果将是排序算法依赖的对比关键字。 "
   ]
  },
  {
   "cell_type": "code",
   "execution_count": 30,
   "metadata": {},
   "outputs": [
    {
     "data": {
      "text/plain": [
       "['apple', 'banana', 'grape', 'raspberry']"
      ]
     },
     "execution_count": 30,
     "metadata": {},
     "output_type": "execute_result"
    }
   ],
   "source": [
    ">>> fruits = ['grape', 'raspberry', 'apple', 'banana']\n",
    ">>> sorted(fruits)\n",
    "['apple', 'banana', 'grape', 'raspberry'] \n",
    ">>> fruits\n",
    "['grape', 'raspberry', 'apple', 'banana'] \n",
    ">>> sorted(fruits, reverse=True)\n",
    "['raspberry', 'grape', 'banana', 'apple'] \n",
    ">>> sorted(fruits, key=len)\n",
    "['grape', 'apple', 'banana', 'raspberry'] \n",
    ">>> sorted(fruits, key=len, reverse=True)\n",
    "['raspberry', 'banana', 'grape', 'apple'] \n",
    ">>> fruits\n",
    "['grape', 'raspberry', 'apple', 'banana'] \n",
    ">>> fruits.sort() \n",
    ">>> fruits\n",
    "['apple', 'banana', 'grape', 'raspberry'] "
   ]
  },
  {
   "cell_type": "markdown",
   "metadata": {},
   "source": [
    "## 2.8  用bisect来管理已排序的序列\n"
   ]
  },
  {
   "cell_type": "markdown",
   "metadata": {},
   "source": [
    "### 2.8.1 用bisect来搜索"
   ]
  },
  {
   "cell_type": "markdown",
   "metadata": {},
   "source": [
    "bisect(haystack, needle) 在 haystack（干草垛）里搜needle（针）的位置，该位置满足的条件是，把 needle 插入这个位置之后，haystack 还能保持升序。也就是在说这个函数返回的位置前面\n",
    "的值，都小于或等于 needle 的值。其中 haystack 必须是一个有序的序列。你可以先用 bisect(haystack, needle) 查找位置 index，再用 haystack.insert(index, needle) 来插入新值。但你也可用insort 来一步到位，并且后者的速度更快一些。\n"
   ]
  },
  {
   "cell_type": "code",
   "execution_count": 31,
   "metadata": {},
   "outputs": [
    {
     "name": "stdout",
     "output_type": "stream",
     "text": [
      "DEMO: bisect_right\n",
      "haystack ->  1  4  5  6  8 12 15 20 21 23 23 26 29 30\n",
      "31 @ 14      |  |  |  |  |  |  |  |  |  |  |  |  |  |31\n",
      "30 @ 14      |  |  |  |  |  |  |  |  |  |  |  |  |  |30\n",
      "29 @ 13      |  |  |  |  |  |  |  |  |  |  |  |  |29\n",
      "23 @ 11      |  |  |  |  |  |  |  |  |  |  |23\n",
      "22 @  9      |  |  |  |  |  |  |  |  |22\n",
      "10 @  5      |  |  |  |  |10\n",
      " 8 @  5      |  |  |  |  |8 \n",
      " 5 @  3      |  |  |5 \n",
      " 2 @  1      |2 \n",
      " 1 @  1      |1 \n",
      " 0 @  0    0 \n"
     ]
    }
   ],
   "source": [
    "import bisect\n",
    "import sys\n",
    "HAYSTACK = [1, 4, 5, 6, 8, 12, 15, 20, 21, 23, 23, 26, 29, 30]\n",
    "NEEDLES = [0, 1, 2, 5, 8, 10, 22, 23, 29, 30, 31]\n",
    "ROW_FMT = '{0:2d} @ {1:2d}    {2}{0:<2d}'\n",
    "def demo(bisect_fn):\n",
    "    for needle in reversed(NEEDLES):\n",
    "        position = bisect_fn(HAYSTACK, needle) \n",
    "        offset = position * '  |' \n",
    "        print(ROW_FMT.format(needle, position, offset)) \n",
    "if __name__ == '__main__':\n",
    "    if sys.argv[-1] == 'left': \n",
    "        bisect_fn = bisect.bisect_left\n",
    "    else:\n",
    "        bisect_fn = bisect.bisect\n",
    "    print('DEMO:', bisect_fn.__name__) \n",
    "    print('haystack ->', ' '.join('%2d' % n for n in HAYSTACK))\n",
    "    demo(bisect_fn)"
   ]
  },
  {
   "cell_type": "markdown",
   "metadata": {},
   "source": [
    "### 2.8.2 用bisect.insort插入新元素"
   ]
  },
  {
   "cell_type": "code",
   "execution_count": 32,
   "metadata": {},
   "outputs": [
    {
     "name": "stdout",
     "output_type": "stream",
     "text": [
      "10 -> [10]\n",
      " 0 -> [0, 10]\n",
      " 6 -> [0, 6, 10]\n",
      " 8 -> [0, 6, 8, 10]\n",
      " 7 -> [0, 6, 7, 8, 10]\n",
      " 2 -> [0, 2, 6, 7, 8, 10]\n",
      "10 -> [0, 2, 6, 7, 8, 10, 10]\n"
     ]
    }
   ],
   "source": [
    "import bisect\n",
    "import random\n",
    "SIZE=7\n",
    "random.seed(1729)\n",
    "my_list = []\n",
    "for i in range(SIZE):\n",
    "    new_item = random.randrange(SIZE*2)\n",
    "    bisect.insort(my_list, new_item)\n",
    "    print('%2d ->' % new_item, my_list)\n"
   ]
  },
  {
   "cell_type": "markdown",
   "metadata": {},
   "source": [
    "## 2.9  当列表不是首选 "
   ]
  },
  {
   "cell_type": "markdown",
   "metadata": {},
   "source": [
    "### 2.9.1 数组\n"
   ]
  },
  {
   "cell_type": "code",
   "execution_count": 33,
   "metadata": {},
   "outputs": [
    {
     "data": {
      "text/plain": [
       "0.5963321947530882"
      ]
     },
     "execution_count": 33,
     "metadata": {},
     "output_type": "execute_result"
    }
   ],
   "source": [
    "# 一个浮点型数组的创建、存入文件和从文件读取的过程\n",
    "from array import array\n",
    "from random import random\n",
    "floats = array('d',(random() for i in range(10**7)))\n",
    "floats[-1]"
   ]
  },
  {
   "cell_type": "code",
   "execution_count": 34,
   "metadata": {},
   "outputs": [],
   "source": [
    "fp = open('floats.bin', 'wb')\n",
    "floats.tofile(fp)\n",
    "fp.close()"
   ]
  },
  {
   "cell_type": "code",
   "execution_count": 35,
   "metadata": {},
   "outputs": [
    {
     "data": {
      "text/plain": [
       "0.5963321947530882"
      ]
     },
     "execution_count": 35,
     "metadata": {},
     "output_type": "execute_result"
    }
   ],
   "source": [
    "floats2 = array('d')\n",
    "fp = open('floats.bin','rb')\n",
    "floats2.fromfile(fp, 10**7)\n",
    "fp.close()\n",
    "floats2[-1]"
   ]
  },
  {
   "cell_type": "code",
   "execution_count": 36,
   "metadata": {},
   "outputs": [
    {
     "data": {
      "text/plain": [
       "True"
      ]
     },
     "execution_count": 36,
     "metadata": {},
     "output_type": "execute_result"
    }
   ],
   "source": [
    "floats == floats2"
   ]
  },
  {
   "cell_type": "markdown",
   "metadata": {},
   "source": [
    "### 2.9.2 内存视图\n"
   ]
  },
  {
   "cell_type": "markdown",
   "metadata": {},
   "source": [
    "memoryview是一个内置类，他能让用户在不复制内容的情况下操作同一个数组的不同的切片。\n",
    "\n",
    "内存视图其实是泛化和去数学化的 NumPy 数组。它让你在不需要复制内容的前提下，在数据结构之间共享内存。其中数据结构可以是任何形式，比如 PIL图片、SQLite 数据库和 NumPy 的数组，等等。这个功能在处理大型数据集合的时候非常重要。\n",
    "\n",
    "memoryview.cast 的概念跟数组模块类似，能用不同的方式读写同一块内存数据，而且内容字节不会随意移动。这听上去又跟 C 语言中类型转换的概念差不多。memoryview.cast 会把同一块内存里的内容打包成一个全新的 memoryview 对象给你。"
   ]
  },
  {
   "cell_type": "code",
   "execution_count": 37,
   "metadata": {},
   "outputs": [
    {
     "name": "stdout",
     "output_type": "stream",
     "text": [
      "len of memv :  5\n",
      "-2\n",
      "[254, 255, 255, 255, 0, 0, 1, 0, 2, 0]\n",
      "array('h', [-2, -1, 1024, 1, 2])\n"
     ]
    }
   ],
   "source": [
    "# 通过改变数组中的一个字节来更新数组里某个元素的值\n",
    "\n",
    "# 利用5个短整型有符号整数的数组（类型码‘h’）创建一个memoryview\n",
    "numbers = array('h', [-2, -1, 0, 1, 2])\n",
    "memv = memoryview(numbers)\n",
    "print('len of memv : ', len(memv))\n",
    "# memv的5个元素和数组里的没有区别\n",
    "print(memv[0])\n",
    "# 创建一个memv_oct，这一次是把memv里的内容转换成'B'类型，也就是无符号字符类型\n",
    "memv_oct = memv.cast('B')\n",
    "# 以列表形式查看memv_oct的内容\n",
    "print(memv_oct.tolist())\n",
    "# 把位于位置5的字节赋值4 \n",
    "# 40 0100 0000 0000 \n",
    "# numbers[2] -> 1024 \n",
    "memv_oct[5] = 4\n",
    "print(numbers)"
   ]
  },
  {
   "cell_type": "markdown",
   "metadata": {},
   "source": [
    "### 2.9.3 NumPy和SciPy\n"
   ]
  },
  {
   "cell_type": "markdown",
   "metadata": {},
   "source": [
    "凭借着NumPy和SciPy的高阶数组和矩阵操作，Python成为科学计算应用的主流语言。NumPy实现了多维同质数组和矩阵，这些数据结构不仅能处理数字，还能存放其他由用户定义的记录。通过NumPy，用户能对这些数据结构里的元素进行高效的操作。\n",
    "\n",
    "SciPy 是基于 NumPy 的另一个库，它提供了很多跟科学计算有关的算法，专为线性代数、数值积分和统计学而设计。SciPy 的高效和可靠性归功于其背后的 C Fortran 代码，而这些跟计算有关的部分都源自于Netlib 库（http://www.netlib.org）。换句话说，SciPy 把基于 C 和 Fortran的工业级数学计算功能用交互式且高度抽象的Python 包装起来，让科学家如鱼得水。\n",
    "\n",
    "\n"
   ]
  },
  {
   "cell_type": "markdown",
   "metadata": {},
   "source": [
    "### 2.9.4 双向队列和其他形式的队列\n",
    "\n",
    "collections.deque类（双向队列）是一个线程安全、可以快速从两端添加或者删除元素的数据类型。"
   ]
  },
  {
   "cell_type": "code",
   "execution_count": 38,
   "metadata": {},
   "outputs": [
    {
     "name": "stdout",
     "output_type": "stream",
     "text": [
      "deque([0, 1, 2, 3, 4, 5, 6, 7, 8, 9], maxlen=10)\n",
      "deque([7, 8, 9, 0, 1, 2, 3, 4, 5, 6], maxlen=10)\n",
      "deque([1, 2, 3, 4, 5, 6, 7, 8, 9, 0], maxlen=10)\n",
      "deque([-1, 1, 2, 3, 4, 5, 6, 7, 8, 9], maxlen=10)\n",
      "deque([3, 4, 5, 6, 7, 8, 9, 10, 20, 30], maxlen=10)\n",
      "deque([40, 30, 20, 10, 3, 4, 5, 6, 7, 8], maxlen=10)\n"
     ]
    }
   ],
   "source": [
    "# 使用双向队列\n",
    "from collections import deque\n",
    "dq = deque(range(10), maxlen=10)\n",
    "print(dq)\n",
    "# 队列的旋转操作接受一个参数n,当n>0时，队列最右边的n个元素会被移动到队列的左边\n",
    "dq.rotate(3)\n",
    "print(dq)\n",
    "# 当n<0时，最左边的n个元素会移动到右边\n",
    "dq.rotate(-4)\n",
    "print(dq)\n",
    "# 当试图对一个已满（len(d) == d.maxlen）的队列做尾部添加操作时，他的头部元素会被删除掉\n",
    "dq.appendleft(-1)\n",
    "print(dq)\n",
    "# 在尾部添加的3元素会挤掉-1、1和2\n",
    "dq.extend([10,20,30]) \n",
    "print(dq)\n",
    "# extendleft(iter) 方法会把迭代器里的元素逐个添加到双向队列的左边，因此迭代器里的元素会逆序出现在队列里\n",
    "dq.extendleft([10, 20, 30, 40])\n",
    "print(dq)"
   ]
  },
  {
   "cell_type": "markdown",
   "metadata": {},
   "source": [
    "append和popleft都是原子操作，也就是说deque可以在多线程程序中安全地当作先进先出的栈使用，而使用者无需担心资源锁的问题"
   ]
  },
  {
   "cell_type": "markdown",
   "metadata": {},
   "source": [
    "## 2.10 本章小结\n",
    "\n",
    "要想写出准确、高效和地道的python代码，对标准库里的序列类型的掌握是不可或缺的。\n",
    "\n",
    "## 2.11 拓展阅读\n",
    "\n",
    "优雅是简约之父\n",
    "\n"
   ]
  },
  {
   "cell_type": "code",
   "execution_count": null,
   "metadata": {},
   "outputs": [],
   "source": []
  },
  {
   "cell_type": "code",
   "execution_count": null,
   "metadata": {},
   "outputs": [],
   "source": []
  }
 ],
 "metadata": {
  "kernelspec": {
   "display_name": "Python 3",
   "language": "python",
   "name": "python3"
  },
  "language_info": {
   "codemirror_mode": {
    "name": "ipython",
    "version": 3
   },
   "file_extension": ".py",
   "mimetype": "text/x-python",
   "name": "python",
   "nbconvert_exporter": "python",
   "pygments_lexer": "ipython3",
   "version": "3.7.3"
  }
 },
 "nbformat": 4,
 "nbformat_minor": 2
}
