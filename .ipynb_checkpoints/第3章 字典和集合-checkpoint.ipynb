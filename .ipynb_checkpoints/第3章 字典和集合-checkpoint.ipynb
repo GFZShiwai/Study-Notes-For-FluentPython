{
 "cells": [
  {
   "cell_type": "markdown",
   "metadata": {},
   "source": [
    "# 第3章 字典和集合"
   ]
  },
  {
   "cell_type": "markdown",
   "metadata": {},
   "source": [
    "字典和集合的实现均依赖于散列表，想要进一步理解集合和字典，就得先理解散列表的原理。\n",
    "\n",
    "本章的内容大纲如下:\n",
    "\n",
    "- 常见的字典方法\n",
    "\n",
    "- 如何处理查找不到的键\n",
    "\n",
    "- 标准库中dict类型的变种\n",
    "\n",
    "- set和frozenset类型\n",
    "\n",
    "- 散列表的工作原理\n",
    "\n",
    "- 散列表带来的潜在影响（什么样的数据类型可作为键、不可预知的顺序，等等）"
   ]
  },
  {
   "cell_type": "markdown",
   "metadata": {},
   "source": [
    "## 3.1 泛映射类型"
   ]
  },
  {
   "cell_type": "markdown",
   "metadata": {},
   "source": [
    "collections.abc模块中有Mapping和MutableMapping这两个抽象基类，其作用在于为dict和其他类似的类型定义形式接口。\n",
    "\n",
    "非抽象映射类型一般不会直接继承这些抽象基类，而是直接对dict或collections.User.Dict进行扩展。"
   ]
  },
  {
   "cell_type": "code",
   "execution_count": 2,
   "metadata": {},
   "outputs": [
    {
     "data": {
      "text/plain": [
       "True"
      ]
     },
     "execution_count": 2,
     "metadata": {},
     "output_type": "execute_result"
    }
   ],
   "source": [
    "# 使用抽象基类和isinstance一起判定某个数据结构是否为广义的映射类型\n",
    "import collections.abc as abc\n",
    "mydict = {}\n",
    "isinstance(mydict, abc.Mapping)"
   ]
  },
  {
   "cell_type": "markdown",
   "metadata": {},
   "source": [
    "标准库里所有的映射类型都是利用dict来实现的，因此他们有个共同的限制，即只有可散列的数据类型才能用作这些映射里的键。\n",
    "\n",
    "*<b>什么是可散列的数据类型？</b>*\n",
    "\n",
    "<u>如果一个对象是可散列的，那么在这个对象的生命周期中，它的散列值是不变的，而且这个对象需要实现__hash__()方法。另外可散列的对象还要有__qe__()方法，这样才能跟其他键作比较。</u>\n",
    "\n",
    "如果两个可散列对象是相等的，那么他们的散列值一定是一样的。"
   ]
  },
  {
   "cell_type": "code",
   "execution_count": 3,
   "metadata": {},
   "outputs": [
    {
     "data": {
      "text/plain": [
       "1350807749"
      ]
     },
     "execution_count": 3,
     "metadata": {},
     "output_type": "execute_result"
    }
   ],
   "source": [
    "tt = (1, 2, (30, 40))\n",
    "hash(tt)"
   ]
  },
  {
   "cell_type": "code",
   "execution_count": 4,
   "metadata": {},
   "outputs": [
    {
     "ename": "TypeError",
     "evalue": "unhashable type: 'list'",
     "output_type": "error",
     "traceback": [
      "\u001b[0;31m---------------------------------------------------------------------------\u001b[0m",
      "\u001b[0;31mTypeError\u001b[0m                                 Traceback (most recent call last)",
      "\u001b[0;32m<ipython-input-4-258d676ca6dc>\u001b[0m in \u001b[0;36m<module>\u001b[0;34m()\u001b[0m\n\u001b[1;32m      1\u001b[0m \u001b[0mtl\u001b[0m \u001b[0;34m=\u001b[0m \u001b[0;34m(\u001b[0m\u001b[0;36m1\u001b[0m\u001b[0;34m,\u001b[0m \u001b[0;36m2\u001b[0m\u001b[0;34m,\u001b[0m \u001b[0;34m[\u001b[0m\u001b[0;36m30\u001b[0m\u001b[0;34m,\u001b[0m \u001b[0;36m40\u001b[0m\u001b[0;34m]\u001b[0m\u001b[0;34m)\u001b[0m\u001b[0;34m\u001b[0m\u001b[0;34m\u001b[0m\u001b[0m\n\u001b[0;32m----> 2\u001b[0;31m \u001b[0mhash\u001b[0m\u001b[0;34m(\u001b[0m\u001b[0mtl\u001b[0m\u001b[0;34m)\u001b[0m\u001b[0;34m\u001b[0m\u001b[0;34m\u001b[0m\u001b[0m\n\u001b[0m",
      "\u001b[0;31mTypeError\u001b[0m: unhashable type: 'list'"
     ]
    }
   ],
   "source": [
    "tl = (1, 2, [30, 40])\n",
    "hash(tl)"
   ]
  },
  {
   "cell_type": "code",
   "execution_count": 5,
   "metadata": {},
   "outputs": [
    {
     "data": {
      "text/plain": [
       "1662783578"
      ]
     },
     "execution_count": 5,
     "metadata": {},
     "output_type": "execute_result"
    }
   ],
   "source": [
    "tf = (1, 2, frozenset([30, 40]))\n",
    "hash(tf)"
   ]
  },
  {
   "cell_type": "code",
   "execution_count": 6,
   "metadata": {},
   "outputs": [
    {
     "data": {
      "text/plain": [
       "True"
      ]
     },
     "execution_count": 6,
     "metadata": {},
     "output_type": "execute_result"
    }
   ],
   "source": [
    "# 字典的构造方法\n",
    "a = dict(one=1, two=2, three=3)\n",
    "b = dict({'one':1, \"two\":2, \"three\":3})\n",
    "c = dict(zip(['one', 'two', 'three'], [1, 2, 3]))\n",
    "d = dict([('one', 1), ('two', 2), ('three', 3)])\n",
    "e = {'one':1, \"two\":2, \"three\":3}\n",
    "\n",
    "a == b == c == d == e"
   ]
  },
  {
   "cell_type": "markdown",
   "metadata": {},
   "source": [
    "## 3.2 字典推导"
   ]
  },
  {
   "cell_type": "markdown",
   "metadata": {},
   "source": [
    "字典推导（dictcomp）可以从任何以键值对作为元素的可迭代对象中构建出字典。"
   ]
  },
  {
   "cell_type": "code",
   "execution_count": 9,
   "metadata": {},
   "outputs": [
    {
     "data": {
      "text/plain": [
       "{'China': 86,\n",
       " 'India': 91,\n",
       " 'United States': 1,\n",
       " 'Indonesia': 62,\n",
       " 'Brazil': 55,\n",
       " 'Pakistan': 92,\n",
       " 'Bangladesh': 880,\n",
       " 'Nigeria': 234,\n",
       " 'Russia': 7,\n",
       " 'Japan': 81}"
      ]
     },
     "execution_count": 9,
     "metadata": {},
     "output_type": "execute_result"
    }
   ],
   "source": [
    "# 字典推导的应用\n",
    "DIAL_CODES = [ \n",
    "    (86, 'China'),\n",
    "    (91, 'India'),\n",
    "    (1, 'United States'),\n",
    "    (62, 'Indonesia'),\n",
    "    (55, 'Brazil'),\n",
    "    (92, 'Pakistan'),\n",
    "    (880, 'Bangladesh'),\n",
    "    (234, 'Nigeria'),\n",
    "    (7, 'Russia'),\n",
    "    (81, 'Japan'),\n",
    "]\n",
    "country_code = {country: code for code, country in DIAL_CODES}\n",
    "country_code\n"
   ]
  },
  {
   "cell_type": "code",
   "execution_count": 10,
   "metadata": {},
   "outputs": [
    {
     "data": {
      "text/plain": [
       "{1: 'UNITED STATES', 55: 'BRAZIL', 7: 'RUSSIA'}"
      ]
     },
     "execution_count": 10,
     "metadata": {},
     "output_type": "execute_result"
    }
   ],
   "source": [
    "{code: country.upper() for country, code in country_code.items() if code < 56}"
   ]
  },
  {
   "cell_type": "markdown",
   "metadata": {},
   "source": [
    "## 3.3 常见的映射方法"
   ]
  }
 ],
 "metadata": {
  "kernelspec": {
   "display_name": "Python 3",
   "language": "python",
   "name": "python3"
  },
  "language_info": {
   "codemirror_mode": {
    "name": "ipython",
    "version": 3
   },
   "file_extension": ".py",
   "mimetype": "text/x-python",
   "name": "python",
   "nbconvert_exporter": "python",
   "pygments_lexer": "ipython3",
   "version": "3.7.3-final"
  }
 },
 "nbformat": 4,
 "nbformat_minor": 2
}
